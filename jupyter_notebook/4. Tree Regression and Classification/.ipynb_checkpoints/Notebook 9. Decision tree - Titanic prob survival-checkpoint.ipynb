{
 "cells": [
  {
   "cell_type": "markdown",
   "metadata": {},
   "source": [
    "# Jupyter notebook - Decision Classifier Tree"
   ]
  },
  {
   "cell_type": "markdown",
   "metadata": {},
   "source": [
    "We do an exercise to estimate the probability of survival using Decision classifier tree.\n"
   ]
  },
  {
   "cell_type": "code",
   "execution_count": null,
   "metadata": {},
   "outputs": [],
   "source": [
    "import pandas as pd\n",
    "import numpy as np\n",
    "import matplotlib.pyplot as plt\n",
    "import seaborn as sns\n",
    "import pydot\n",
    "from IPython.display import Image\n",
    "\n",
    "from sklearn.model_selection import train_test_split, cross_val_score\n",
    "from sklearn.externals.six import StringIO  \n",
    "from sklearn.tree import DecisionTreeRegressor, DecisionTreeClassifier, export_graphviz\n",
    "# from sklearn.ensemble import BaggingClassifier, RandomForestClassifier, BaggingRegressor, RandomForestRegressor, GradientBoostingRegressor\n",
    "from sklearn.metrics import mean_squared_error,confusion_matrix, classification_report\n",
    "\n",
    "%matplotlib inline\n",
    "plt.style.use('seaborn-white')"
   ]
  },
  {
   "cell_type": "code",
   "execution_count": null,
   "metadata": {},
   "outputs": [],
   "source": [
    "# This function creates images of tree models using pydot\n",
    "def print_tree(estimator, features, class_names=None, filled=True):\n",
    "    tree = estimator\n",
    "    names = features\n",
    "    color = filled\n",
    "    classn = class_names\n",
    "    \n",
    "    dot_data = StringIO()\n",
    "    export_graphviz(estimator, out_file=dot_data, feature_names=features, class_names=classn, filled=filled)\n",
    "    graph = pydot.graph_from_dot_data(dot_data.getvalue())\n",
    "    return(graph)"
   ]
  },
  {
   "cell_type": "code",
   "execution_count": null,
   "metadata": {},
   "outputs": [],
   "source": [
    "data = pd.read_csv(\"../Dataset/Titanic.csv\", sep=\";\")\n",
    "data.head()"
   ]
  },
  {
   "cell_type": "markdown",
   "metadata": {},
   "source": [
    "Predict the probability of survival using Pclass, Sex, Age, Fare."
   ]
  },
  {
   "cell_type": "code",
   "execution_count": null,
   "metadata": {},
   "outputs": [],
   "source": [
    "X = data.drop(['PassengerId', 'Name','Ticket','Cabin', 'Survived'], axis=1)\n",
    "y = data['Survived']"
   ]
  },
  {
   "cell_type": "code",
   "execution_count": null,
   "metadata": {},
   "outputs": [],
   "source": [
    "X.isnull().sum()"
   ]
  },
  {
   "cell_type": "code",
   "execution_count": null,
   "metadata": {},
   "outputs": [],
   "source": [
    "X.Age = X.Age.fillna(X.Age.mean())\n",
    "X.head()"
   ]
  },
  {
   "cell_type": "code",
   "execution_count": null,
   "metadata": {},
   "outputs": [],
   "source": [
    "# Convert Sex in 1 oe 0\n",
    "from sklearn.preprocessing import LabelEncoder\n",
    "X_sex = LabelEncoder()\n",
    "X['Sex'] = X_sex.fit_transform(X['Sex'])\n",
    "\n",
    "# Embarked \n",
    "X_embark = pd.get_dummies(X.Embarked)"
   ]
  },
  {
   "cell_type": "code",
   "execution_count": null,
   "metadata": {},
   "outputs": [],
   "source": [
    "# Embarked \n",
    "X_embark = pd.get_dummies(X.Embarked, drop_first = True)\n",
    "X_embark\n",
    "X = pd.concat([X, X_embark], axis = 1)\n",
    "X = X.drop('Embarked', axis = 1)\n",
    "X.head()"
   ]
  },
  {
   "cell_type": "code",
   "execution_count": null,
   "metadata": {},
   "outputs": [],
   "source": [
    "# or\n",
    "# X['Sex'] = X.Sex.map({'male':1, 'female':2})"
   ]
  },
  {
   "cell_type": "code",
   "execution_count": null,
   "metadata": {},
   "outputs": [],
   "source": [
    "# Divide in train and test\n",
    "X_train, X_test, y_train, y_test = train_test_split(X,y,test_size = 0.2, random_state = 10)"
   ]
  },
  {
   "cell_type": "markdown",
   "metadata": {},
   "source": [
    "# Fit the model"
   ]
  },
  {
   "cell_type": "code",
   "execution_count": null,
   "metadata": {},
   "outputs": [],
   "source": [
    "tree_classifier = DecisionTreeClassifier(criterion = 'gini', max_depth=2, random_state = 10)"
   ]
  },
  {
   "cell_type": "code",
   "execution_count": null,
   "metadata": {},
   "outputs": [],
   "source": [
    "# fit the tree\n",
    "tree_classifier.fit(X_train,y_train)\n",
    "\n",
    "# Evaluate the tree on the training set.\n",
    "print(\"Training Score: \", tree_classifier.score(X_train,y_train))\n",
    "# Evaluate the tree on the training set.\n",
    "print(\"Test Score: \", tree_classifier.score(X_test,y_test))"
   ]
  },
  {
   "cell_type": "code",
   "execution_count": null,
   "metadata": {},
   "outputs": [],
   "source": [
    "graph, = print_tree(tree_classifier, features= X.columns, class_names = ['No', 'Yes'])\n",
    "Image(graph.create_png())"
   ]
  },
  {
   "cell_type": "code",
   "execution_count": null,
   "metadata": {},
   "outputs": [],
   "source": [
    "# More depth \n",
    "tree_classifier3 = DecisionTreeClassifier(criterion = 'gini', max_depth=3, random_state = 10)\n",
    "# fit the tree\n",
    "tree_classifier3.fit(X_train,y_train)\n",
    "\n",
    "# Evaluate the tree on the training set.\n",
    "print(\"Training Score: \", tree_classifier3.score(X_train,y_train))\n",
    "# Evaluate the tree on the training set.\n",
    "print(\"Test Score: \", tree_classifier3.score(X_test,y_test))"
   ]
  },
  {
   "cell_type": "code",
   "execution_count": null,
   "metadata": {},
   "outputs": [],
   "source": [
    "graph, = print_tree(tree_classifier3, features= X.columns, class_names = ['No', 'Yes'])\n",
    "Image(graph.create_png())"
   ]
  },
  {
   "cell_type": "code",
   "execution_count": null,
   "metadata": {},
   "outputs": [],
   "source": [
    "# More depth \n",
    "tree_classifier4 = DecisionTreeClassifier(criterion = 'gini', max_depth=4, random_state = 10)\n",
    "# fit the tree\n",
    "tree_classifier4.fit(X_train,y_train)\n",
    "\n",
    "# Evaluate the tree on the training set.\n",
    "print(\"Training Score: \", tree_classifier4.score(X_train,y_train))\n",
    "# Evaluate the tree on the training set.\n",
    "print(\"Test Score: \", tree_classifier4.score(X_test,y_test))"
   ]
  },
  {
   "cell_type": "code",
   "execution_count": null,
   "metadata": {},
   "outputs": [],
   "source": [
    "graph, = print_tree(tree_classifier4, features= X.columns, class_names = ['No', 'Yes'])\n",
    "Image(graph.create_png())"
   ]
  },
  {
   "cell_type": "code",
   "execution_count": null,
   "metadata": {},
   "outputs": [],
   "source": [
    "# More depth \n",
    "tree_classifier10 = DecisionTreeClassifier(criterion = 'gini', max_depth=10, random_state = 10)\n",
    "# fit the tree\n",
    "tree_classifier10.fit(X_train,y_train)\n",
    "\n",
    "# Evaluate the tree on the training set.\n",
    "print(\"Training Score: \", tree_classifier10.score(X_train,y_train))\n",
    "# Evaluate the tree on the training set.\n",
    "print(\"Test Score: \", tree_classifier10.score(X_test,y_test))"
   ]
  },
  {
   "cell_type": "code",
   "execution_count": null,
   "metadata": {},
   "outputs": [],
   "source": [
    "graph, = print_tree(tree_classifier6, features= X.columns, class_names = ['No', 'Yes'])\n",
    "Image(graph.create_png())"
   ]
  },
  {
   "cell_type": "code",
   "execution_count": null,
   "metadata": {},
   "outputs": [],
   "source": [
    "# Comparison\n",
    "# Evaluate the tree on the training set.\n",
    "print(\"Depth = 2: \" \"Training Score = \", tree_classifier.score(X_train,y_train), \"-----\",\n",
    "      \"Test Score = \", tree_classifier.score(X_test,y_test))\n",
    "print(\"\")\n",
    "print(\"Depth = 3: \" \"Training Score = \", tree_classifier3.score(X_train,y_train), \"-----\",\n",
    "      \"Test Score = \", tree_classifier3.score(X_test,y_test))\n",
    "print(\"\")\n",
    "print(\"Depth = 4: \" \"Training Score = \", tree_classifier4.score(X_train,y_train), \"-----\",\n",
    "      \"Test Score = \", tree_classifier4.score(X_test,y_test))\n",
    "print(\"\")\n",
    "print(\"Depth = 10: \" \"Training Score = \", tree_classifier10.score(X_train,y_train), \"-----\",\n",
    "      \"Test Score = \", tree_classifier10.score(X_test,y_test))\n"
   ]
  },
  {
   "cell_type": "code",
   "execution_count": null,
   "metadata": {},
   "outputs": [],
   "source": []
  },
  {
   "cell_type": "code",
   "execution_count": null,
   "metadata": {},
   "outputs": [],
   "source": [
    "# let's look at which are the most important variables\n",
    "# 1. depth = 2\n",
    "features_imp = tree_classifier.feature_importances_\n",
    "features_imp_df = pd.DataFrame(features_imp, index = X_train.columns, columns = ['Depth 2'])\n",
    "features_imp_df"
   ]
  },
  {
   "cell_type": "code",
   "execution_count": null,
   "metadata": {},
   "outputs": [],
   "source": [
    "# now we concatenate the others\n",
    "features_imp_df['Depth 3'] = tree_classifier3.feature_importances_\n",
    "features_imp_df['Depth 4'] = tree_classifier4.feature_importances_\n",
    "features_imp_df['Depth 10'] = tree_classifier10.feature_importances_\n",
    "features_imp_df"
   ]
  },
  {
   "cell_type": "code",
   "execution_count": null,
   "metadata": {},
   "outputs": [],
   "source": [
    "# how can i predict the probability to survive is a new data comes in? given the most importan features?"
   ]
  },
  {
   "cell_type": "code",
   "execution_count": null,
   "metadata": {},
   "outputs": [],
   "source": []
  }
 ],
 "metadata": {
  "kernelspec": {
   "display_name": "Python 3",
   "language": "python",
   "name": "python3"
  },
  "language_info": {
   "codemirror_mode": {
    "name": "ipython",
    "version": 3
   },
   "file_extension": ".py",
   "mimetype": "text/x-python",
   "name": "python",
   "nbconvert_exporter": "python",
   "pygments_lexer": "ipython3",
   "version": "3.7.3"
  }
 },
 "nbformat": 4,
 "nbformat_minor": 2
}
