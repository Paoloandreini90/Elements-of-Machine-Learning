{
 "cells": [
  {
   "cell_type": "markdown",
   "metadata": {},
   "source": [
    "# Jupyter notebook PCA regression"
   ]
  },
  {
   "cell_type": "markdown",
   "metadata": {},
   "source": [
    "We do an extensive exercise comparing Linear regression, Lasso, Ridge and PCA.\n",
    "\n",
    "We calibrate the hyperparameters using GridSearchCV from sklearn."
   ]
  },
  {
   "cell_type": "markdown",
   "metadata": {},
   "source": [
    "We want to predict the Salary of a baseball players based on his statistics.\n",
    "\n",
    "The dataset is the related form the Major League Baseball from 1986 and 1987 season.\n",
    "\n",
    "The variables in the dataset are:\n",
    "\n",
    "1. AtBat: Number of times at bat in 1986\n",
    "2. Hits: Number of hits in 1986\n",
    "3. HmRun: Number of home runs in 1986\n",
    "4. Runs: Number of runs in 1986\n",
    "5. RBI: Number of runs batted in in 1986\n",
    "6. Walks: Number of walks in 1986\n",
    "7. Years: Number of years in the major leagues\n",
    "8. CAtBat: Number of times at bat during his career\n",
    "9. CHits: Number of hits during his career\n",
    "10. CHmRun: Number of home runs during his career\n",
    "11. CRuns: Number of runs during his career\n",
    "12. CRBI: Number of runs batted in during his career\n",
    "13. CWalks: Number of walks during his career\n",
    "14. League: A factor with levels A and N indicating player's league at the end of 1986\n",
    "15. Division: A factor with levels E and W indicating player's division at the end of 1986\n",
    "16. PutOuts: Number of put outs in 1986\n",
    "17. Assists :Number of assists in 1986\n",
    "18. Errors: Number of errors in 1986\n",
    "19. Salary: 1987 annual salary on opening day in thousands of dollars\n",
    "20. NewLeague: A factor with levels A and N indicating player's league at the beginning of 1987"
   ]
  },
  {
   "cell_type": "code",
   "execution_count": null,
   "metadata": {},
   "outputs": [],
   "source": [
    "import pandas as pd\n",
    "import numpy as np\n",
    "import matplotlib.pyplot as plt\n",
    "import seaborn as sns\n",
    "\n",
    "# import glmnet as gln\n",
    "\n",
    "from sklearn.preprocessing import scale \n",
    "from sklearn import model_selection\n",
    "from sklearn.linear_model import LinearRegression, Ridge, RidgeCV, Lasso, LassoCV\n",
    "from sklearn.decomposition import PCA\n",
    "from sklearn.cross_decomposition import PLSRegression\n",
    "from sklearn.model_selection import KFold, cross_val_score\n",
    "from sklearn.metrics import mean_squared_error, mean_absolute_error, median_absolute_error\n",
    "from sklearn.model_selection import GridSearchCV\n",
    "\n",
    "%matplotlib inline\n",
    "plt.style.use('seaborn-white')\n",
    "\n",
    "\n",
    "import warnings\n",
    "warnings.filterwarnings(\"ignore\")"
   ]
  },
  {
   "cell_type": "code",
   "execution_count": 2,
   "metadata": {},
   "outputs": [],
   "source": [
    "# In R, I exported the dataset from package 'ISLR' to a csv file.\n",
    "df = pd.read_csv('../Dataset/Hitters.csv', sep =\";\", index_col=0).dropna()\n",
    "df.index.name = 'Player'"
   ]
  },
  {
   "cell_type": "code",
   "execution_count": 3,
   "metadata": {},
   "outputs": [
    {
     "data": {
      "text/html": [
       "<div>\n",
       "<style scoped>\n",
       "    .dataframe tbody tr th:only-of-type {\n",
       "        vertical-align: middle;\n",
       "    }\n",
       "\n",
       "    .dataframe tbody tr th {\n",
       "        vertical-align: top;\n",
       "    }\n",
       "\n",
       "    .dataframe thead th {\n",
       "        text-align: right;\n",
       "    }\n",
       "</style>\n",
       "<table border=\"1\" class=\"dataframe\">\n",
       "  <thead>\n",
       "    <tr style=\"text-align: right;\">\n",
       "      <th></th>\n",
       "      <th>AtBat</th>\n",
       "      <th>Hits</th>\n",
       "      <th>HmRun</th>\n",
       "      <th>Runs</th>\n",
       "      <th>RBI</th>\n",
       "      <th>Walks</th>\n",
       "      <th>Years</th>\n",
       "      <th>CAtBat</th>\n",
       "      <th>CHits</th>\n",
       "      <th>CHmRun</th>\n",
       "      <th>CRuns</th>\n",
       "      <th>CRBI</th>\n",
       "      <th>CWalks</th>\n",
       "      <th>League</th>\n",
       "      <th>Division</th>\n",
       "      <th>PutOuts</th>\n",
       "      <th>Assists</th>\n",
       "      <th>Errors</th>\n",
       "      <th>Salary</th>\n",
       "      <th>NewLeague</th>\n",
       "    </tr>\n",
       "    <tr>\n",
       "      <th>Player</th>\n",
       "      <th></th>\n",
       "      <th></th>\n",
       "      <th></th>\n",
       "      <th></th>\n",
       "      <th></th>\n",
       "      <th></th>\n",
       "      <th></th>\n",
       "      <th></th>\n",
       "      <th></th>\n",
       "      <th></th>\n",
       "      <th></th>\n",
       "      <th></th>\n",
       "      <th></th>\n",
       "      <th></th>\n",
       "      <th></th>\n",
       "      <th></th>\n",
       "      <th></th>\n",
       "      <th></th>\n",
       "      <th></th>\n",
       "      <th></th>\n",
       "    </tr>\n",
       "  </thead>\n",
       "  <tbody>\n",
       "    <tr>\n",
       "      <th>Alan Ashby</th>\n",
       "      <td>315</td>\n",
       "      <td>81</td>\n",
       "      <td>7</td>\n",
       "      <td>24</td>\n",
       "      <td>38</td>\n",
       "      <td>39</td>\n",
       "      <td>14</td>\n",
       "      <td>3449</td>\n",
       "      <td>835</td>\n",
       "      <td>69</td>\n",
       "      <td>321</td>\n",
       "      <td>414</td>\n",
       "      <td>375</td>\n",
       "      <td>N</td>\n",
       "      <td>W</td>\n",
       "      <td>632</td>\n",
       "      <td>43</td>\n",
       "      <td>10</td>\n",
       "      <td>475.0</td>\n",
       "      <td>N</td>\n",
       "    </tr>\n",
       "    <tr>\n",
       "      <th>Alvin Davis</th>\n",
       "      <td>479</td>\n",
       "      <td>130</td>\n",
       "      <td>18</td>\n",
       "      <td>66</td>\n",
       "      <td>72</td>\n",
       "      <td>76</td>\n",
       "      <td>3</td>\n",
       "      <td>1624</td>\n",
       "      <td>457</td>\n",
       "      <td>63</td>\n",
       "      <td>224</td>\n",
       "      <td>266</td>\n",
       "      <td>263</td>\n",
       "      <td>A</td>\n",
       "      <td>W</td>\n",
       "      <td>880</td>\n",
       "      <td>82</td>\n",
       "      <td>14</td>\n",
       "      <td>480.0</td>\n",
       "      <td>A</td>\n",
       "    </tr>\n",
       "    <tr>\n",
       "      <th>Andre Dawson</th>\n",
       "      <td>496</td>\n",
       "      <td>141</td>\n",
       "      <td>20</td>\n",
       "      <td>65</td>\n",
       "      <td>78</td>\n",
       "      <td>37</td>\n",
       "      <td>11</td>\n",
       "      <td>5628</td>\n",
       "      <td>1575</td>\n",
       "      <td>225</td>\n",
       "      <td>828</td>\n",
       "      <td>838</td>\n",
       "      <td>354</td>\n",
       "      <td>N</td>\n",
       "      <td>E</td>\n",
       "      <td>200</td>\n",
       "      <td>11</td>\n",
       "      <td>3</td>\n",
       "      <td>500.0</td>\n",
       "      <td>N</td>\n",
       "    </tr>\n",
       "    <tr>\n",
       "      <th>Andres Galarraga</th>\n",
       "      <td>321</td>\n",
       "      <td>87</td>\n",
       "      <td>10</td>\n",
       "      <td>39</td>\n",
       "      <td>42</td>\n",
       "      <td>30</td>\n",
       "      <td>2</td>\n",
       "      <td>396</td>\n",
       "      <td>101</td>\n",
       "      <td>12</td>\n",
       "      <td>48</td>\n",
       "      <td>46</td>\n",
       "      <td>33</td>\n",
       "      <td>N</td>\n",
       "      <td>E</td>\n",
       "      <td>805</td>\n",
       "      <td>40</td>\n",
       "      <td>4</td>\n",
       "      <td>91.5</td>\n",
       "      <td>N</td>\n",
       "    </tr>\n",
       "    <tr>\n",
       "      <th>Alfredo Griffin</th>\n",
       "      <td>594</td>\n",
       "      <td>169</td>\n",
       "      <td>4</td>\n",
       "      <td>74</td>\n",
       "      <td>51</td>\n",
       "      <td>35</td>\n",
       "      <td>11</td>\n",
       "      <td>4408</td>\n",
       "      <td>1133</td>\n",
       "      <td>19</td>\n",
       "      <td>501</td>\n",
       "      <td>336</td>\n",
       "      <td>194</td>\n",
       "      <td>A</td>\n",
       "      <td>W</td>\n",
       "      <td>282</td>\n",
       "      <td>421</td>\n",
       "      <td>25</td>\n",
       "      <td>750.0</td>\n",
       "      <td>A</td>\n",
       "    </tr>\n",
       "  </tbody>\n",
       "</table>\n",
       "</div>"
      ],
      "text/plain": [
       "                  AtBat  Hits  HmRun  Runs  RBI  Walks  Years  CAtBat  CHits  \\\n",
       "Player                                                                         \n",
       "Alan Ashby          315    81      7    24   38     39     14    3449    835   \n",
       "Alvin Davis         479   130     18    66   72     76      3    1624    457   \n",
       "Andre Dawson        496   141     20    65   78     37     11    5628   1575   \n",
       "Andres Galarraga    321    87     10    39   42     30      2     396    101   \n",
       "Alfredo Griffin     594   169      4    74   51     35     11    4408   1133   \n",
       "\n",
       "                  CHmRun  CRuns  CRBI  CWalks League Division  PutOuts  \\\n",
       "Player                                                                   \n",
       "Alan Ashby            69    321   414     375      N        W      632   \n",
       "Alvin Davis           63    224   266     263      A        W      880   \n",
       "Andre Dawson         225    828   838     354      N        E      200   \n",
       "Andres Galarraga      12     48    46      33      N        E      805   \n",
       "Alfredo Griffin       19    501   336     194      A        W      282   \n",
       "\n",
       "                  Assists  Errors  Salary NewLeague  \n",
       "Player                                               \n",
       "Alan Ashby             43      10   475.0         N  \n",
       "Alvin Davis            82      14   480.0         A  \n",
       "Andre Dawson           11       3   500.0         N  \n",
       "Andres Galarraga       40       4    91.5         N  \n",
       "Alfredo Griffin       421      25   750.0         A  "
      ]
     },
     "execution_count": 3,
     "metadata": {},
     "output_type": "execute_result"
    }
   ],
   "source": [
    "df.head()"
   ]
  },
  {
   "cell_type": "code",
   "execution_count": 4,
   "metadata": {},
   "outputs": [
    {
     "name": "stdout",
     "output_type": "stream",
     "text": [
      "<class 'pandas.core.frame.DataFrame'>\n",
      "Index: 263 entries, Alan Ashby to Willie Wilson\n",
      "Data columns (total 6 columns):\n",
      "League_A       263 non-null uint8\n",
      "League_N       263 non-null uint8\n",
      "Division_E     263 non-null uint8\n",
      "Division_W     263 non-null uint8\n",
      "NewLeague_A    263 non-null uint8\n",
      "NewLeague_N    263 non-null uint8\n",
      "dtypes: uint8(6)\n",
      "memory usage: 3.6+ KB\n",
      "                  League_A  League_N  Division_E  Division_W  NewLeague_A  \\\n",
      "Player                                                                      \n",
      "Alan Ashby               0         1           0           1            0   \n",
      "Alvin Davis              1         0           0           1            1   \n",
      "Andre Dawson             0         1           1           0            0   \n",
      "Andres Galarraga         0         1           1           0            0   \n",
      "Alfredo Griffin          1         0           0           1            1   \n",
      "\n",
      "                  NewLeague_N  \n",
      "Player                         \n",
      "Alan Ashby                  1  \n",
      "Alvin Davis                 0  \n",
      "Andre Dawson                1  \n",
      "Andres Galarraga            1  \n",
      "Alfredo Griffin             0  \n"
     ]
    }
   ],
   "source": [
    "dummies = pd.get_dummies(df[['League', 'Division', 'NewLeague']])\n",
    "dummies.info()\n",
    "print(dummies.head())"
   ]
  },
  {
   "cell_type": "code",
   "execution_count": 5,
   "metadata": {},
   "outputs": [
    {
     "name": "stdout",
     "output_type": "stream",
     "text": [
      "<class 'pandas.core.frame.DataFrame'>\n",
      "Index: 263 entries, Alan Ashby to Willie Wilson\n",
      "Data columns (total 19 columns):\n",
      "AtBat          263 non-null float64\n",
      "Hits           263 non-null float64\n",
      "HmRun          263 non-null float64\n",
      "Runs           263 non-null float64\n",
      "RBI            263 non-null float64\n",
      "Walks          263 non-null float64\n",
      "Years          263 non-null float64\n",
      "CAtBat         263 non-null float64\n",
      "CHits          263 non-null float64\n",
      "CHmRun         263 non-null float64\n",
      "CRuns          263 non-null float64\n",
      "CRBI           263 non-null float64\n",
      "CWalks         263 non-null float64\n",
      "PutOuts        263 non-null float64\n",
      "Assists        263 non-null float64\n",
      "Errors         263 non-null float64\n",
      "League_N       263 non-null uint8\n",
      "Division_W     263 non-null uint8\n",
      "NewLeague_N    263 non-null uint8\n",
      "dtypes: float64(16), uint8(3)\n",
      "memory usage: 35.7+ KB\n"
     ]
    }
   ],
   "source": [
    "y = df.Salary\n",
    "# Drop the column with the independent variable (Salary), and columns for which we created dummy variables\n",
    "X_ = df.drop(['Salary', 'League', 'Division', 'NewLeague'], axis=1).astype('float64')\n",
    "# Define the feature set X.\n",
    "X = pd.concat([X_, dummies[['League_N', 'Division_W', 'NewLeague_N']]], axis=1)\n",
    "X.info()"
   ]
  },
  {
   "cell_type": "code",
   "execution_count": 6,
   "metadata": {},
   "outputs": [],
   "source": [
    "# Let's all use this dataset\n",
    "X_train = pd.read_csv('../Dataset/X_train.csv', sep = ';', index_col=0)\n",
    "y_train = pd.read_csv('../Dataset/y_train.csv', sep = ';', index_col=0)\n",
    "X_test = pd.read_csv('../Dataset/X_test.csv', sep = ';',index_col=0)\n",
    "y_test = pd.read_csv('../Dataset/y_test.csv', sep = ';', index_col=0)"
   ]
  },
  {
   "cell_type": "markdown",
   "metadata": {},
   "source": [
    "# Linear Regression"
   ]
  },
  {
   "cell_type": "code",
   "execution_count": 7,
   "metadata": {},
   "outputs": [
    {
     "data": {
      "image/png": "[encoded data removed]",
      "text/plain": [
       "<Figure size 432x288 with 1 Axes>"
      ]
     },
     "metadata": {
      "needs_background": "light"
     },
     "output_type": "display_data"
    }
   ],
   "source": [
    "# only OOS, no cross-validation\n",
    "lm = LinearRegression(fit_intercept = True)\n",
    "n = len(y_train)\n",
    "n_test = len(y_test)\n",
    "mse_lm_oos = []\n",
    "\n",
    "# only the intercept\n",
    "lm.fit(np.ones((n,1)), y_train)\n",
    "pred = lm.predict(np.ones((n,1)))\n",
    "mse_lm_oos.append(mean_squared_error(y_train, pred))\n",
    "\n",
    "# for each variable\n",
    "\n",
    "for i in np.arange(1,20):\n",
    "    lm.fit(scale(X_train.iloc[:,:i]), y_train)\n",
    "    pred = lm.predict(scale(X_test.iloc[:,:i]))\n",
    "    mse_lm_oos.append(mean_squared_error(y_test, pred))\n",
    "    \n",
    "plt.plot(mse_lm_oos, '-v')\n",
    "plt.xlabel('Number of principal components in regression')\n",
    "plt.ylabel('MSE LM')\n",
    "plt.title('Salary')\n",
    "plt.xlim(xmin=-1);"
   ]
  },
  {
   "cell_type": "markdown",
   "metadata": {},
   "source": [
    "# Ridge"
   ]
  },
  {
   "cell_type": "code",
   "execution_count": 19,
   "metadata": {},
   "outputs": [],
   "source": [
    "# Only the OOS\n",
    "alphas = np.linspace(1,200, 500)\n",
    "\n",
    "ridge = Ridge()\n",
    "coefs = []\n",
    "mse_oos = []\n",
    "for a in alphas:\n",
    "    ridge.set_params(alpha=a)\n",
    "    ridge.fit(scale(X_train), y_train)\n",
    "    coefs.append(ridge.coef_)\n",
    "    \n",
    "    pred = ridge.predict(scale(X_test))\n",
    "    mse_oos.append(mean_squared_error(y_test, pred))"
   ]
  },
  {
   "cell_type": "code",
   "execution_count": 20,
   "metadata": {},
   "outputs": [
    {
     "data": {
      "image/png": "[encoded data removed]",
      "text/plain": [
       "<Figure size 432x288 with 1 Axes>"
      ]
     },
     "metadata": {
      "needs_background": "light"
     },
     "output_type": "display_data"
    },
    {
     "name": "stdout",
     "output_type": "stream",
     "text": [
      "Optimal λ Ridge oos:  64.41408281656331\n"
     ]
    }
   ],
   "source": [
    "fig, ax = plt.subplots()\n",
    "plt.plot(alphas, mse_oos, label = 'MSE ridge oos')\n",
    "plt.legend()\n",
    "plt.show()\n",
    "print('Optimal λ Ridge oos: ', alphas[np.argmin(mse_oos)])"
   ]
  },
  {
   "cell_type": "code",
   "execution_count": 12,
   "metadata": {},
   "outputs": [
    {
     "data": {
      "text/plain": [
       "65"
      ]
     },
     "execution_count": 12,
     "metadata": {},
     "output_type": "execute_result"
    }
   ],
   "source": [
    "np.argmin(mse_oos)"
   ]
  },
  {
   "cell_type": "code",
   "execution_count": 178,
   "metadata": {},
   "outputs": [
    {
     "data": {
      "image/png": "[encoded data removed]",
      "text/plain": [
       "<Figure size 432x288 with 1 Axes>"
      ]
     },
     "metadata": {},
     "output_type": "display_data"
    },
    {
     "name": "stdout",
     "output_type": "stream",
     "text": [
      "Optimal λ Ridge oos:  61.54545454545455\n"
     ]
    }
   ],
   "source": [
    "\n",
    "plt.plot((alphas), mse_oos, label = 'MSE ridge oos')\n",
    "#plt.axis(alphas)\n",
    "plt.legend()\n",
    "plt.show()\n",
    "print('Optimal λ Ridge oos: ', alphas[np.argmin(mse_oos)])"
   ]
  },
  {
   "cell_type": "code",
   "execution_count": 179,
   "metadata": {},
   "outputs": [
    {
     "data": {
      "text/plain": [
       "[<matplotlib.lines.Line2D at 0x11d5d89b0>]"
      ]
     },
     "execution_count": 179,
     "metadata": {},
     "output_type": "execute_result"
    },
    {
     "data": {
      "image/png": "[encoded data removed]",
      "text/plain": [
       "<Figure size 432x288 with 1 Axes>"
      ]
     },
     "metadata": {},
     "output_type": "display_data"
    }
   ],
   "source": [
    "aa = pd.DataFrame(mse_oos)\n",
    "aa['alphas'] = alphas\n",
    "aa.head()\n",
    "fig, ax = plt.subplots()\n",
    "ax.plot(aa.iloc[:,1], aa.iloc[:,0])"
   ]
  },
  {
   "cell_type": "code",
   "execution_count": 169,
   "metadata": {},
   "outputs": [
    {
     "data": {
      "text/html": [
       "<div>\n",
       "<style scoped>\n",
       "    .dataframe tbody tr th:only-of-type {\n",
       "        vertical-align: middle;\n",
       "    }\n",
       "\n",
       "    .dataframe tbody tr th {\n",
       "        vertical-align: top;\n",
       "    }\n",
       "\n",
       "    .dataframe thead th {\n",
       "        text-align: right;\n",
       "    }\n",
       "</style>\n",
       "<table border=\"1\" class=\"dataframe\">\n",
       "  <thead>\n",
       "    <tr style=\"text-align: right;\">\n",
       "      <th></th>\n",
       "      <th>0</th>\n",
       "      <th>alphas</th>\n",
       "    </tr>\n",
       "  </thead>\n",
       "  <tbody>\n",
       "    <tr>\n",
       "      <th>0</th>\n",
       "      <td>193253.081765</td>\n",
       "      <td>5.000000e+09</td>\n",
       "    </tr>\n",
       "    <tr>\n",
       "      <th>1</th>\n",
       "      <td>193253.071687</td>\n",
       "      <td>3.782317e+09</td>\n",
       "    </tr>\n",
       "    <tr>\n",
       "      <th>2</th>\n",
       "      <td>193253.058365</td>\n",
       "      <td>2.861184e+09</td>\n",
       "    </tr>\n",
       "    <tr>\n",
       "      <th>3</th>\n",
       "      <td>193253.040754</td>\n",
       "      <td>2.164381e+09</td>\n",
       "    </tr>\n",
       "    <tr>\n",
       "      <th>4</th>\n",
       "      <td>193253.017473</td>\n",
       "      <td>1.637275e+09</td>\n",
       "    </tr>\n",
       "  </tbody>\n",
       "</table>\n",
       "</div>"
      ],
      "text/plain": [
       "               0        alphas\n",
       "0  193253.081765  5.000000e+09\n",
       "1  193253.071687  3.782317e+09\n",
       "2  193253.058365  2.861184e+09\n",
       "3  193253.040754  2.164381e+09\n",
       "4  193253.017473  1.637275e+09"
      ]
     },
     "execution_count": 169,
     "metadata": {},
     "output_type": "execute_result"
    }
   ],
   "source": [
    "aa.head()"
   ]
  },
  {
   "cell_type": "markdown",
   "metadata": {},
   "source": [
    "# Lasso"
   ]
  },
  {
   "cell_type": "code",
   "execution_count": 184,
   "metadata": {},
   "outputs": [
    {
     "data": {
      "image/png": "[encoded data removed]",
      "text/plain": [
       "<Figure size 432x288 with 1 Axes>"
      ]
     },
     "metadata": {},
     "output_type": "display_data"
    },
    {
     "name": "stdout",
     "output_type": "stream",
     "text": [
      "Optimal λ Lasso oos:  2.320794416806386\n"
     ]
    }
   ],
   "source": [
    "# predict, only oos\n",
    "lasso = Lasso(max_iter=10000)\n",
    "coefs = []\n",
    "mse_lasso_oos = []\n",
    "for a in alphas*2:\n",
    "    lasso.set_params(alpha=a)\n",
    "    lasso.fit(scale(X_train), y_train)\n",
    "    coefs.append(lasso.coef_)\n",
    "    \n",
    "    pred = lasso.predict(scale(X_test))\n",
    "    mse_lasso_oos.append(mean_squared_error(y_test, pred))\n",
    "    \n",
    "plt.plot(mse_lasso_oos, label = 'MSE ridge oos')\n",
    "plt.legend()\n",
    "plt.show()\n",
    "print('Optimal λ Lasso oos: ', alphas[np.argmin(mse_lasso_oos)])"
   ]
  },
  {
   "cell_type": "code",
   "execution_count": 185,
   "metadata": {},
   "outputs": [
    {
     "data": {
      "text/plain": [
       "77"
      ]
     },
     "execution_count": 185,
     "metadata": {},
     "output_type": "execute_result"
    }
   ],
   "source": [
    "np.argmin(mse_lasso_oos)"
   ]
  },
  {
   "cell_type": "markdown",
   "metadata": {},
   "source": [
    "# PCA"
   ]
  },
  {
   "cell_type": "code",
   "execution_count": 97,
   "metadata": {},
   "outputs": [
    {
     "name": "stdout",
     "output_type": "stream",
     "text": [
      "(19, 19)\n"
     ]
    },
    {
     "data": {
      "text/html": [
       "<div>\n",
       "<style scoped>\n",
       "    .dataframe tbody tr th:only-of-type {\n",
       "        vertical-align: middle;\n",
       "    }\n",
       "\n",
       "    .dataframe tbody tr th {\n",
       "        vertical-align: top;\n",
       "    }\n",
       "\n",
       "    .dataframe thead th {\n",
       "        text-align: right;\n",
       "    }\n",
       "</style>\n",
       "<table border=\"1\" class=\"dataframe\">\n",
       "  <thead>\n",
       "    <tr style=\"text-align: right;\">\n",
       "      <th></th>\n",
       "      <th>0</th>\n",
       "      <th>1</th>\n",
       "      <th>2</th>\n",
       "      <th>3</th>\n",
       "      <th>4</th>\n",
       "      <th>5</th>\n",
       "    </tr>\n",
       "  </thead>\n",
       "  <tbody>\n",
       "    <tr>\n",
       "      <th>0</th>\n",
       "      <td>0.198290</td>\n",
       "      <td>-0.383784</td>\n",
       "      <td>0.088626</td>\n",
       "      <td>0.031967</td>\n",
       "      <td>0.028117</td>\n",
       "      <td>-0.070646</td>\n",
       "    </tr>\n",
       "    <tr>\n",
       "      <th>1</th>\n",
       "      <td>0.195861</td>\n",
       "      <td>-0.377271</td>\n",
       "      <td>0.074032</td>\n",
       "      <td>0.017982</td>\n",
       "      <td>-0.004652</td>\n",
       "      <td>-0.082240</td>\n",
       "    </tr>\n",
       "    <tr>\n",
       "      <th>2</th>\n",
       "      <td>0.204369</td>\n",
       "      <td>-0.237136</td>\n",
       "      <td>-0.216186</td>\n",
       "      <td>-0.235831</td>\n",
       "      <td>0.077660</td>\n",
       "      <td>-0.149646</td>\n",
       "    </tr>\n",
       "    <tr>\n",
       "      <th>3</th>\n",
       "      <td>0.198337</td>\n",
       "      <td>-0.377721</td>\n",
       "      <td>-0.017166</td>\n",
       "      <td>-0.049942</td>\n",
       "      <td>-0.038536</td>\n",
       "      <td>-0.136660</td>\n",
       "    </tr>\n",
       "    <tr>\n",
       "      <th>4</th>\n",
       "      <td>0.235174</td>\n",
       "      <td>-0.314531</td>\n",
       "      <td>-0.073085</td>\n",
       "      <td>-0.138985</td>\n",
       "      <td>0.024299</td>\n",
       "      <td>-0.111675</td>\n",
       "    </tr>\n",
       "  </tbody>\n",
       "</table>\n",
       "</div>"
      ],
      "text/plain": [
       "          0         1         2         3         4         5\n",
       "0  0.198290 -0.383784  0.088626  0.031967  0.028117 -0.070646\n",
       "1  0.195861 -0.377271  0.074032  0.017982 -0.004652 -0.082240\n",
       "2  0.204369 -0.237136 -0.216186 -0.235831  0.077660 -0.149646\n",
       "3  0.198337 -0.377721 -0.017166 -0.049942 -0.038536 -0.136660\n",
       "4  0.235174 -0.314531 -0.073085 -0.138985  0.024299 -0.111675"
      ]
     },
     "execution_count": 97,
     "metadata": {},
     "output_type": "execute_result"
    }
   ],
   "source": [
    "# PCA and we transform the data in principal components\n",
    "pca = PCA()\n",
    "X_reduced = pca.fit_transform(scale(X))\n",
    "\n",
    "print(pca.components_.shape)\n",
    "pd.DataFrame(pca.components_.T).loc[:4,:5]"
   ]
  },
  {
   "cell_type": "code",
   "execution_count": 98,
   "metadata": {},
   "outputs": [
    {
     "name": "stdout",
     "output_type": "stream",
     "text": [
      "(263, 19)\n"
     ]
    },
    {
     "data": {
      "text/html": [
       "<div>\n",
       "<style scoped>\n",
       "    .dataframe tbody tr th:only-of-type {\n",
       "        vertical-align: middle;\n",
       "    }\n",
       "\n",
       "    .dataframe tbody tr th {\n",
       "        vertical-align: top;\n",
       "    }\n",
       "\n",
       "    .dataframe thead th {\n",
       "        text-align: right;\n",
       "    }\n",
       "</style>\n",
       "<table border=\"1\" class=\"dataframe\">\n",
       "  <thead>\n",
       "    <tr style=\"text-align: right;\">\n",
       "      <th></th>\n",
       "      <th>0</th>\n",
       "      <th>1</th>\n",
       "      <th>2</th>\n",
       "      <th>3</th>\n",
       "      <th>4</th>\n",
       "      <th>5</th>\n",
       "    </tr>\n",
       "  </thead>\n",
       "  <tbody>\n",
       "    <tr>\n",
       "      <th>0</th>\n",
       "      <td>-0.009649</td>\n",
       "      <td>1.870522</td>\n",
       "      <td>1.265145</td>\n",
       "      <td>-0.935481</td>\n",
       "      <td>1.109636</td>\n",
       "      <td>1.211972</td>\n",
       "    </tr>\n",
       "    <tr>\n",
       "      <th>1</th>\n",
       "      <td>0.411434</td>\n",
       "      <td>-2.429422</td>\n",
       "      <td>-0.909193</td>\n",
       "      <td>-0.264212</td>\n",
       "      <td>1.232031</td>\n",
       "      <td>1.826617</td>\n",
       "    </tr>\n",
       "    <tr>\n",
       "      <th>2</th>\n",
       "      <td>3.466822</td>\n",
       "      <td>0.825947</td>\n",
       "      <td>0.555469</td>\n",
       "      <td>-1.616726</td>\n",
       "      <td>-0.857488</td>\n",
       "      <td>-1.028712</td>\n",
       "    </tr>\n",
       "    <tr>\n",
       "      <th>3</th>\n",
       "      <td>-2.558317</td>\n",
       "      <td>-0.230984</td>\n",
       "      <td>0.519642</td>\n",
       "      <td>-2.176251</td>\n",
       "      <td>-0.820301</td>\n",
       "      <td>1.491696</td>\n",
       "    </tr>\n",
       "    <tr>\n",
       "      <th>4</th>\n",
       "      <td>1.027702</td>\n",
       "      <td>-1.573537</td>\n",
       "      <td>1.331382</td>\n",
       "      <td>3.494004</td>\n",
       "      <td>0.983427</td>\n",
       "      <td>0.513675</td>\n",
       "    </tr>\n",
       "  </tbody>\n",
       "</table>\n",
       "</div>"
      ],
      "text/plain": [
       "          0         1         2         3         4         5\n",
       "0 -0.009649  1.870522  1.265145 -0.935481  1.109636  1.211972\n",
       "1  0.411434 -2.429422 -0.909193 -0.264212  1.232031  1.826617\n",
       "2  3.466822  0.825947  0.555469 -1.616726 -0.857488 -1.028712\n",
       "3 -2.558317 -0.230984  0.519642 -2.176251 -0.820301  1.491696\n",
       "4  1.027702 -1.573537  1.331382  3.494004  0.983427  0.513675"
      ]
     },
     "execution_count": 98,
     "metadata": {},
     "output_type": "execute_result"
    }
   ],
   "source": [
    "print(X_reduced.shape)\n",
    "pd.DataFrame(X_reduced).loc[:4,:5]"
   ]
  },
  {
   "cell_type": "code",
   "execution_count": 99,
   "metadata": {},
   "outputs": [],
   "source": [
    "# compute explained variance \n",
    "explained_var_ratio = np.round(pca.explained_variance_ratio_, decimals = 3)*100\n",
    "index = []\n",
    "for i in range(1, len(explained_var_ratio)+1):\n",
    "    index.append('PC %s' %i)\n",
    "    \n",
    "pc_total = pd.DataFrame(explained_var_ratio, index = index, columns=['PCs'])"
   ]
  },
  {
   "cell_type": "code",
   "execution_count": 100,
   "metadata": {},
   "outputs": [
    {
     "data": {
      "text/html": [
       "<div>\n",
       "<style scoped>\n",
       "    .dataframe tbody tr th:only-of-type {\n",
       "        vertical-align: middle;\n",
       "    }\n",
       "\n",
       "    .dataframe tbody tr th {\n",
       "        vertical-align: top;\n",
       "    }\n",
       "\n",
       "    .dataframe thead th {\n",
       "        text-align: right;\n",
       "    }\n",
       "</style>\n",
       "<table border=\"1\" class=\"dataframe\">\n",
       "  <thead>\n",
       "    <tr style=\"text-align: right;\">\n",
       "      <th></th>\n",
       "      <th>PCs</th>\n",
       "      <th>PCs cumulative</th>\n",
       "    </tr>\n",
       "  </thead>\n",
       "  <tbody>\n",
       "    <tr>\n",
       "      <th>PC 1</th>\n",
       "      <td>38.3</td>\n",
       "      <td>38.3</td>\n",
       "    </tr>\n",
       "    <tr>\n",
       "      <th>PC 2</th>\n",
       "      <td>21.8</td>\n",
       "      <td>60.1</td>\n",
       "    </tr>\n",
       "    <tr>\n",
       "      <th>PC 3</th>\n",
       "      <td>10.7</td>\n",
       "      <td>70.8</td>\n",
       "    </tr>\n",
       "    <tr>\n",
       "      <th>PC 4</th>\n",
       "      <td>8.2</td>\n",
       "      <td>79.0</td>\n",
       "    </tr>\n",
       "    <tr>\n",
       "      <th>PC 5</th>\n",
       "      <td>5.3</td>\n",
       "      <td>84.3</td>\n",
       "    </tr>\n",
       "  </tbody>\n",
       "</table>\n",
       "</div>"
      ],
      "text/plain": [
       "       PCs  PCs cumulative\n",
       "PC 1  38.3            38.3\n",
       "PC 2  21.8            60.1\n",
       "PC 3  10.7            70.8\n",
       "PC 4   8.2            79.0\n",
       "PC 5   5.3            84.3"
      ]
     },
     "execution_count": 100,
     "metadata": {},
     "output_type": "execute_result"
    }
   ],
   "source": [
    "# compute cumulative explained variance\n",
    "cum_expl_var = pd.DataFrame(np.cumsum(explained_var_ratio), index= index,\n",
    "                           columns = ['PCs cumulative'])\n",
    "\n",
    "pc_df = pd.DataFrame(pd.concat([pc_total, cum_expl_var], axis = 1))\n",
    "pc_df.head()"
   ]
  },
  {
   "cell_type": "code",
   "execution_count": 101,
   "metadata": {},
   "outputs": [
    {
     "data": {
      "image/png": "[encoded data removed]",
      "text/plain": [
       "<Figure size 1008x504 with 1 Axes>"
      ]
     },
     "metadata": {},
     "output_type": "display_data"
    }
   ],
   "source": [
    "fig = plt.figure(figsize = (14,7))\n",
    "plt.plot(pc_df['PCs cumulative'], label = 'Explained Variance')\n",
    "plt.axhline(y = 95, color='k', linestyle='--',\n",
    "            label = '95% Explained Variance')\n",
    "plt.legend()\n",
    "plt.show()"
   ]
  },
  {
   "cell_type": "markdown",
   "metadata": {},
   "source": [
    "With few components we ara able to explain a lot of the variance"
   ]
  },
  {
   "cell_type": "markdown",
   "metadata": {},
   "source": [
    "### a. Without cross validation and using oos"
   ]
  },
  {
   "cell_type": "code",
   "execution_count": 102,
   "metadata": {},
   "outputs": [],
   "source": [
    "pca2 = PCA()\n",
    "X_reduced_train = pca2.fit_transform(scale(X_train))\n",
    "X_reduced_test = pca2.fit_transform(scale(X_test))"
   ]
  },
  {
   "cell_type": "code",
   "execution_count": 103,
   "metadata": {},
   "outputs": [
    {
     "data": {
      "image/png": "[encoded data removed]",
      "text/plain": [
       "<Figure size 432x288 with 1 Axes>"
      ]
     },
     "metadata": {},
     "output_type": "display_data"
    }
   ],
   "source": [
    "# without cross-validation train-test split\n",
    "lm = LinearRegression(fit_intercept = True)\n",
    "n = len(y_train)\n",
    "n_test = len(y_test)\n",
    "mse_pca_oos = []\n",
    "\n",
    "# only the intercept\n",
    "lm.fit(np.ones((n,1)), y_train)\n",
    "pred = lm.predict(np.ones((n_test,1)))\n",
    "mse_pca_oos.append(mean_squared_error(y_test, pred))\n",
    "\n",
    "# for each pc\n",
    "\n",
    "for i in np.arange(1,20):\n",
    "    lm.fit(X_reduced_train[:,:i], y_train)\n",
    "    pred = lm.predict(X_reduced_test[:,:i])\n",
    "    mse_pca_oos.append(mean_squared_error(y_test, pred))\n",
    "    \n",
    "plt.plot(mse_pca_oos, '-v')\n",
    "plt.xlabel('Number of principal components in regression')\n",
    "plt.ylabel('MSE')\n",
    "plt.title('Salary')\n",
    "plt.xlim(xmin=-1);"
   ]
  },
  {
   "cell_type": "markdown",
   "metadata": {},
   "source": []
  },
  {
   "cell_type": "code",
   "execution_count": 104,
   "metadata": {},
   "outputs": [
    {
     "name": "stdout",
     "output_type": "stream",
     "text": [
      "min MSE LM:  104953.4190366293\n",
      "min MSE Ridge:  96608.03160820289\n",
      "min MSE Lasso:  97385.17204645812\n",
      "min MSE PCA:  91614.17896087343\n",
      "\n",
      "Optimal number of variables LM:  8\n",
      "Optimal λ Ridge oos:  66.09705742330144\n",
      "Optimal λ Lasso oos:  2.320794416806386\n",
      "Optimal number of PCA:  1\n"
     ]
    }
   ],
   "source": [
    "print(\"min MSE LM: \", np.amin(mse_lm_oos))\n",
    "print(\"min MSE Ridge: \", np.amin(mse_oos))\n",
    "print(\"min MSE Lasso: \", np.amin(mse_lasso_oos))\n",
    "print(\"min MSE PCA: \", np.amin(mse_pca_oos))\n",
    "print('')\n",
    "print(\"Optimal number of variables LM: \", np.argmin(mse_lm_oos))\n",
    "print('Optimal λ Ridge oos: ', alphas[np.argmin(mse_oos)])\n",
    "print('Optimal λ Lasso oos: ', alphas[np.argmin(mse_lasso_oos)])\n",
    "print(\"Optimal number of PCA: \", np.argmin(mse_pca_oos))"
   ]
  },
  {
   "cell_type": "markdown",
   "metadata": {},
   "source": [
    "We notice that with only 1 principal component that capture almost the 40% of the variance of our data we have better predictability."
   ]
  },
  {
   "cell_type": "markdown",
   "metadata": {},
   "source": [
    "# Using GridSearchCV"
   ]
  },
  {
   "cell_type": "code",
   "execution_count": 105,
   "metadata": {},
   "outputs": [],
   "source": [
    "# define the function\n",
    "# we can apply this only to lasso and ridge\n",
    "# Define the models\n",
    "lm = Ridge()\n",
    "ridge = Ridge()\n",
    "lasso = Lasso()\n",
    "pca = PCA()\n",
    "\n",
    "params = {'alpha': np.linspace(0.001,200, 200)}\n",
    "params_lin_reg = {'alpha': np.linspace(0,0, 1)}\n",
    "\n",
    "lm2 = GridSearchCV(lm, params_lin_reg, scoring = 'neg_mean_squared_error', cv = 10)\n",
    "ridge2 = GridSearchCV(ridge, params, scoring = 'neg_mean_squared_error', cv = 10)\n",
    "lasso2 = GridSearchCV(lasso, params, scoring = 'neg_mean_squared_error', cv = 10)\n",
    "pca2 = GridSearchCV(lm, params_lin_reg, scoring = 'neg_mean_squared_error', cv = 10)"
   ]
  },
  {
   "cell_type": "code",
   "execution_count": 106,
   "metadata": {},
   "outputs": [
    {
     "data": {
      "text/plain": [
       "GridSearchCV(cv=10, error_score='raise-deprecating',\n",
       "             estimator=Lasso(alpha=1.0, copy_X=True, fit_intercept=True,\n",
       "                             max_iter=1000, normalize=False, positive=False,\n",
       "                             precompute=False, random_state=None,\n",
       "                             selection='cyclic', tol=0.0001, warm_start=False),\n",
       "             iid='warn', n_jobs=None,\n",
       "             param_grid={'alpha': array([1.00000000e-03, 1.00602010e+00, 2.01104020e+00, 3.01606030e+00,\n",
       "       4.02...\n",
       "       1.80904618e+02, 1.81909638e+02, 1.82914658e+02, 1.83919678e+02,\n",
       "       1.84924698e+02, 1.85929719e+02, 1.86934739e+02, 1.87939759e+02,\n",
       "       1.88944779e+02, 1.89949799e+02, 1.90954819e+02, 1.91959839e+02,\n",
       "       1.92964859e+02, 1.93969879e+02, 1.94974899e+02, 1.95979920e+02,\n",
       "       1.96984940e+02, 1.97989960e+02, 1.98994980e+02, 2.00000000e+02])},\n",
       "             pre_dispatch='2*n_jobs', refit=True, return_train_score=False,\n",
       "             scoring='neg_mean_squared_error', verbose=0)"
      ]
     },
     "execution_count": 106,
     "metadata": {},
     "output_type": "execute_result"
    }
   ],
   "source": [
    "# Fit the model using ONLY the training set\n",
    "ridge2.fit(scale(X_train),y_train)\n",
    "lasso2.fit(scale(X_train),y_train)"
   ]
  },
  {
   "cell_type": "code",
   "execution_count": 107,
   "metadata": {},
   "outputs": [],
   "source": [
    "# for lm and pca we need a to do a loop to store all the best values\n",
    "lm_score = []\n",
    "\n",
    "lm2.fit(np.ones((len(y_train),1)), y_train)\n",
    "lm_score.append(lm2.best_score_*(-1))   # mean of the different split\n",
    "\n",
    "# this for loop tells us how many variables we need to use\n",
    "for i in np.arange(1,20):\n",
    "    lm2.fit(scale(X_train.iloc[:,:i]), y_train)\n",
    "    lm_score.append(lm2.best_score_*(-1))\n",
    "\n",
    "pca_score = []    \n",
    "\n",
    "pca2.fit(np.ones((len(y_train),1)), y_train)\n",
    "pca_score.append(pca2.best_score_*(-1))\n",
    "\n",
    "# this for loop tells us how many PC we need to use\n",
    "for i in np.arange(1,20):\n",
    "    pca2.fit(scale(X_reduced_train[:,:i]), y_train)\n",
    "    pca_score.append(pca2.best_score_*(-1))"
   ]
  },
  {
   "cell_type": "markdown",
   "metadata": {},
   "source": [
    "The score we take insample is the mean among all the different split, in order to be fair, because if we take only the minimum it is not far because maybe we are taking only a fortunate subsample."
   ]
  },
  {
   "cell_type": "markdown",
   "metadata": {},
   "source": [
    "We need to determine our optimal hyperparameter to perform the out of sample exercise:\n",
    "\n",
    "1. LM: number of variables\n",
    "2. Ridge: lambda\n",
    "3. Lasso: lambda\n",
    "4. PC: number of pc"
   ]
  },
  {
   "cell_type": "code",
   "execution_count": 108,
   "metadata": {},
   "outputs": [
    {
     "name": "stdout",
     "output_type": "stream",
     "text": [
      "Optimal number of variables LM:  9\n",
      "Optimal λ Ridge oos:  {'alpha': 112.5632512562814}\n",
      "Optimal λ Lasso oos:  {'alpha': 30.151603015075377}\n",
      "Optimal number of PCA:  6\n"
     ]
    }
   ],
   "source": [
    "print(\"Optimal number of variables LM: \", np.argmin(lm_score))\n",
    "print('Optimal λ Ridge oos: ', ridge2.best_params_)\n",
    "print('Optimal λ Lasso oos: ', lasso2.best_params_)\n",
    "print(\"Optimal number of PCA: \", np.argmin(pca_score))"
   ]
  },
  {
   "cell_type": "code",
   "execution_count": null,
   "metadata": {},
   "outputs": [],
   "source": [
    "# let's see from there the magiacal number comes from\n",
    "lasso2.cv_results_;"
   ]
  },
  {
   "cell_type": "markdown",
   "metadata": {},
   "source": [
    "Now that we have our optimal parameters let's see which has the best out os sample performance."
   ]
  },
  {
   "cell_type": "code",
   "execution_count": 109,
   "metadata": {},
   "outputs": [],
   "source": [
    "# let's do prediction\n",
    "# we need to refit the lm and pca for the correct number of variables and \n",
    "# pc\n",
    "lm3 = LinearRegression()\n",
    "lm3.fit(scale(X_train.iloc[:,:10]), y_train)\n",
    "\n",
    "pca3 = LinearRegression()\n",
    "pca3.fit(scale(X_reduced_train[:,:7]), y_train)\n",
    "\n",
    "pred_lm = lm3.predict(scale(X_test.iloc[:,:10]))\n",
    "pred_ridge = ridge2.predict(scale(X_test))\n",
    "pred_lasso = lasso2.predict(scale(X_test))\n",
    "pred_pca = pca3.predict(scale(X_reduced_test[:,:7]))"
   ]
  },
  {
   "cell_type": "code",
   "execution_count": 110,
   "metadata": {},
   "outputs": [
    {
     "name": "stdout",
     "output_type": "stream",
     "text": [
      "OOS MSE lin reg:  x    116892.435327\n",
      "dtype: float64\n",
      "OOS MSE ridge reg:  x    97309.6664\n",
      "dtype: float64\n",
      "OOS MSE lasso reg:  x    102940.600707\n",
      "dtype: float64\n",
      "OOS MSE PCA reg:  x    98065.193471\n",
      "dtype: float64\n"
     ]
    }
   ],
   "source": [
    "print('OOS MSE lin reg: ', np.mean((pred_lm - y_test)**2))\n",
    "print('OOS MSE ridge reg: ', np.mean((pred_ridge - y_test)**2))\n",
    "print('OOS MSE lasso reg: ', np.mean((pred_lasso.reshape(-1,1) - y_test)**2))\n",
    "print('OOS MSE PCA reg: ', np.mean((pred_pca - y_test)**2))"
   ]
  },
  {
   "cell_type": "markdown",
   "metadata": {},
   "source": [
    "# let's try to see what happens if we try different loss function on the test set"
   ]
  },
  {
   "cell_type": "code",
   "execution_count": 111,
   "metadata": {},
   "outputs": [
    {
     "name": "stdout",
     "output_type": "stream",
     "text": [
      "OOS MSE lin reg:  116892.43532743173\n",
      "OOS MSE ridge reg:  97309.66640033023\n",
      "OOS MSE lasso reg:  102940.60070664967\n",
      "OOS MSE PCA reg:  98065.19347064874\n"
     ]
    }
   ],
   "source": [
    "print('OOS MSE lin reg: ', mean_squared_error(y_test, pred_lm))\n",
    "print('OOS MSE ridge reg: ', mean_squared_error(y_test, pred_ridge))\n",
    "print('OOS MSE lasso reg: ', mean_squared_error(y_test, pred_lasso.reshape(-1,1)))\n",
    "print('OOS MSE PCA reg: ', mean_squared_error(y_test, pred_pca))"
   ]
  },
  {
   "cell_type": "code",
   "execution_count": 112,
   "metadata": {},
   "outputs": [
    {
     "name": "stdout",
     "output_type": "stream",
     "text": [
      "OOS MAE lin reg:  263.07636953501964\n",
      "OOS MAE ridge reg:  230.21931381622133\n",
      "OOS MAE lasso reg:  238.5589691464716\n",
      "OOS MAE PCA reg:  231.90946284248776\n"
     ]
    }
   ],
   "source": [
    "print('OOS MAE lin reg: ', mean_absolute_error(y_test, pred_lm))\n",
    "print('OOS MAE ridge reg: ', mean_absolute_error(y_test, pred_ridge))\n",
    "print('OOS MAE lasso reg: ', mean_absolute_error(y_test, pred_lasso.reshape(-1,1)))\n",
    "print('OOS MAE PCA reg: ', mean_absolute_error(y_test, pred_pca))"
   ]
  },
  {
   "cell_type": "code",
   "execution_count": 113,
   "metadata": {},
   "outputs": [
    {
     "name": "stdout",
     "output_type": "stream",
     "text": [
      "OOS MedAE lin reg:  208.94838860146643\n",
      "OOS MedAE ridge reg:  192.89187666725962\n",
      "OOS MedAE lasso reg:  188.52963818846172\n",
      "OOS MedAE PCA reg:  180.31867918350304\n"
     ]
    }
   ],
   "source": [
    "print('OOS MedAE lin reg: ', median_absolute_error(y_test, pred_lm))\n",
    "print('OOS MedAE ridge reg: ', median_absolute_error(y_test, pred_ridge))\n",
    "print('OOS MedAE lasso reg: ', median_absolute_error(y_test, pred_lasso.reshape(-1,1)))\n",
    "print('OOS MedAE PCA reg: ', median_absolute_error(y_test, pred_pca))"
   ]
  },
  {
   "cell_type": "markdown",
   "metadata": {},
   "source": [
    "This is not properly fair, because because to calibrate the hyperparameters i have used a different loss function, so let's see what happens if we cross-validate the model using different loss-functions"
   ]
  },
  {
   "cell_type": "markdown",
   "metadata": {},
   "source": [
    "# What happens if we change loss function in the training set?"
   ]
  },
  {
   "cell_type": "markdown",
   "metadata": {},
   "source": [
    "#### 1. mean absolute error"
   ]
  },
  {
   "cell_type": "code",
   "execution_count": null,
   "metadata": {},
   "outputs": [],
   "source": [
    "lm2 = GridSearchCV(lm, params_lin_reg, scoring = 'neg_mean_absolute_error', cv = 10)\n",
    "ridge2 = GridSearchCV(ridge, params, scoring = 'neg_mean_absolute_error', cv = 10)\n",
    "lasso2 = GridSearchCV(lasso, params, scoring = 'neg_mean_absolute_error', cv = 10)\n",
    "pca2 = GridSearchCV(lm, params_lin_reg, scoring = 'neg_mean_absolute_error', cv = 10)"
   ]
  },
  {
   "cell_type": "code",
   "execution_count": null,
   "metadata": {},
   "outputs": [],
   "source": [
    "# Fit the model using ONLY the training set\n",
    "ridge2.fit(scale(X_train),y_train)\n",
    "lasso2.fit(scale(X_train),y_train)\n",
    "\n",
    "# for lm and pca we need a to do a loop to store all the best values\n",
    "lm_score = []\n",
    "\n",
    "lm2.fit(np.ones((len(y_train),1)), y_train)\n",
    "lm_score.append(lm2.best_score_*(-1))   # mean of the different split\n",
    "\n",
    "# this for loop tells us how many variables we need to use\n",
    "for i in np.arange(1,20):\n",
    "    lm2.fit(scale(X_train.iloc[:,:i]), y_train)\n",
    "    lm_score.append(lm2.best_score_*(-1))\n",
    "\n",
    "pca_score = []    \n",
    "\n",
    "pca2.fit(np.ones((len(y_train),1)), y_train)\n",
    "pca_score.append(pca2.best_score_*(-1))\n",
    "\n",
    "# this for loop tells us how many PC we need to use\n",
    "for i in np.arange(1,20):\n",
    "    pca2.fit(scale(X_reduced_train[:,:i]), y_train)\n",
    "    pca_score.append(pca2.best_score_*(-1))\n",
    "    \n",
    "print(\"Optimal number of variables LM: \", np.argmin(lm_score))\n",
    "print('Optimal λ Ridge oos: ', ridge2.best_params_)\n",
    "print('Optimal λ Lasso oos: ', lasso2.best_params_)\n",
    "print(\"Optimal number of PCA: \", np.argmin(pca_score))"
   ]
  },
  {
   "cell_type": "markdown",
   "metadata": {},
   "source": [
    "Optimal parameters has changed"
   ]
  },
  {
   "cell_type": "code",
   "execution_count": null,
   "metadata": {},
   "outputs": [],
   "source": [
    "lm3 = LinearRegression()\n",
    "lm3.fit(scale(X_train.iloc[:,:17]), y_train)\n",
    "\n",
    "pca3 = LinearRegression()\n",
    "pca3.fit(scale(X_reduced_train[:,:7]), y_train)\n",
    "\n",
    "pred_lm = lm3.predict(scale(X_test.iloc[:,:17]))\n",
    "pred_ridge = ridge2.predict(scale(X_test))\n",
    "pred_lasso = lasso2.predict(scale(X_test))\n",
    "pred_pca = pca3.predict(scale(X_reduced_test[:,:7]))\n",
    "\n",
    "print('OOS MAE lin reg: ', mean_absolute_error(y_test, pred_lm))\n",
    "print('OOS MAE ridge reg: ', mean_absolute_error(y_test, pred_ridge))\n",
    "print('OOS MAE lasso reg: ', mean_absolute_error(y_test, pred_lasso.reshape(-1,1)))\n",
    "print('OOS MAE PCA reg: ', mean_absolute_error(y_test, pred_pca))"
   ]
  },
  {
   "cell_type": "markdown",
   "metadata": {},
   "source": [
    "#### 2. median absolute error"
   ]
  },
  {
   "cell_type": "code",
   "execution_count": null,
   "metadata": {},
   "outputs": [],
   "source": [
    "lm2 = GridSearchCV(lm, params_lin_reg, scoring = 'neg_median_absolute_error', cv = 10)\n",
    "ridge2 = GridSearchCV(ridge, params, scoring = 'neg_median_absolute_error', cv = 10)\n",
    "lasso2 = GridSearchCV(lasso, params, scoring = 'neg_median_absolute_error', cv = 10)\n",
    "pca2 = GridSearchCV(lm, params_lin_reg, scoring = 'neg_median_absolute_error', cv = 10)\n",
    "\n",
    "\n",
    "# Fit the model using ONLY the training set\n",
    "ridge2.fit(scale(X_train),y_train)\n",
    "lasso2.fit(scale(X_train),y_train)\n",
    "\n",
    "# for lm and pca we need a to do a loop to store all the best values\n",
    "lm_score = []\n",
    "\n",
    "lm2.fit(np.ones((len(y_train),1)), y_train)\n",
    "lm_score.append(lm2.best_score_*(-1))   # mean of the different split\n",
    "\n",
    "# this for loop tells us how many variables we need to use\n",
    "for i in np.arange(1,20):\n",
    "    lm2.fit(scale(X_train.iloc[:,:i]), y_train)\n",
    "    lm_score.append(lm2.best_score_*(-1))\n",
    "\n",
    "pca_score = []    \n",
    "\n",
    "pca2.fit(np.ones((len(y_train),1)), y_train)\n",
    "pca_score.append(pca2.best_score_*(-1))\n",
    "\n",
    "# this for loop tells us how many PC we need to use\n",
    "for i in np.arange(1,20):\n",
    "    pca2.fit(scale(X_reduced_train[:,:i]), y_train)\n",
    "    pca_score.append(pca2.best_score_*(-1))\n",
    "    \n",
    "print(\"Optimal number of variables LM: \", np.argmin(lm_score))\n",
    "print('Optimal λ Ridge oos: ', ridge2.best_params_)\n",
    "print('Optimal λ Lasso oos: ', lasso2.best_params_)\n",
    "print(\"Optimal number of PCA: \", np.argmin(pca_score))\n"
   ]
  },
  {
   "cell_type": "markdown",
   "metadata": {},
   "source": [
    "also in this case the optimal hyperparameters have changed"
   ]
  },
  {
   "cell_type": "code",
   "execution_count": null,
   "metadata": {},
   "outputs": [],
   "source": [
    "lm3 = LinearRegression()\n",
    "lm3.fit(scale(X_train.iloc[:,:19]), y_train)\n",
    "\n",
    "pca3 = LinearRegression()\n",
    "pca3.fit(scale(X_reduced_train[:,:7]), y_train)\n",
    "\n",
    "pred_lm = lm3.predict(scale(X_test.iloc[:,:19]))\n",
    "pred_ridge = ridge2.predict(scale(X_test))\n",
    "pred_lasso = lasso2.predict(scale(X_test))\n",
    "pred_pca = pca3.predict(scale(X_reduced_test[:,:7]))\n",
    "\n",
    "print('OOS MAE lin reg: ', median_absolute_error(y_test, pred_lm))\n",
    "print('OOS MAE ridge reg: ', median_absolute_error(y_test, pred_ridge))\n",
    "print('OOS MAE lasso reg: ', median_absolute_error(y_test, pred_lasso.reshape(-1,1)))\n",
    "print('OOS MAE PCA reg: ', median_absolute_error(y_test, pred_pca))"
   ]
  },
  {
   "cell_type": "markdown",
   "metadata": {},
   "source": [
    "#### Possible loss function of GridSearchCV and the relative metrics to compare with\n",
    "Regression\t \t \n",
    "1. 'explained_variance_score': metrics.explained_variance_score\t \t \n",
    "2. ‘neg_mean_absolute_error’:\tmetrics.mean_absolute_error\t \n",
    "3. ‘neg_mean_squared_error’:\tmetrics.mean_squared_error\t \n",
    "4. ‘neg_mean_squared_log_error’:\tmetrics.mean_squared_log_error\t \n",
    "5. ‘neg_median_absolute_error’:\tmetrics.median_absolute_error\t \n",
    "6. ‘r2’:\tmetrics.r2_score"
   ]
  },
  {
   "cell_type": "code",
   "execution_count": null,
   "metadata": {},
   "outputs": [],
   "source": []
  }
 ],
 "metadata": {
  "kernelspec": {
   "display_name": "Python 3",
   "language": "python",
   "name": "python3"
  },
  "language_info": {
   "codemirror_mode": {
    "name": "ipython",
    "version": 3
   },
   "file_extension": ".py",
   "mimetype": "text/x-python",
   "name": "python",
   "nbconvert_exporter": "python",
   "pygments_lexer": "ipython3",
   "version": "3.7.3"
  }
 },
 "nbformat": 4,
 "nbformat_minor": 2
}
