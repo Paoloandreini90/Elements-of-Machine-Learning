{
 "cells": [
  {
   "cell_type": "markdown",
   "metadata": {},
   "source": [
    "# Jupyter notebook - Neural Network for multiclass classification"
   ]
  },
  {
   "cell_type": "markdown",
   "metadata": {},
   "source": [
    "We do an extensive exercise to predict a multiclass classification problem.\n",
    "\n",
    "We compare multiple machine learning algorithm:\n",
    "    \n",
    "1. Logistic regression\n",
    "2. Logistic penalized regression\n",
    "3. Random Forest\n",
    "4. Neural Network"
   ]
  },
  {
   "cell_type": "code",
   "execution_count": null,
   "metadata": {},
   "outputs": [],
   "source": [
    "# importing necessary libraries \n",
    "from sklearn import datasets \n",
    "from sklearn.metrics import confusion_matrix, accuracy_score\n",
    "from sklearn.model_selection import train_test_split\n",
    "from sklearn.linear_model import LogisticRegression\n",
    "from sklearn.ensemble import RandomForestClassifier\n",
    "from sklearn.preprocessing import StandardScaler\n",
    "import numpy as np\n",
    "import pandas as pd\n",
    "import itertools\n",
    "\n",
    "from keras.models import Sequential\n",
    "from keras.layers import Activation, Dropout, Flatten, Dense\n",
    "from keras.preprocessing.image import ImageDataGenerator\n",
    "from keras.layers import Convolution2D, MaxPooling2D, ZeroPadding2D\n",
    "from keras.layers import Conv2D\n",
    "from keras import optimizers\n",
    "import matplotlib.pyplot as plt\n",
    "\n",
    "import warnings\n",
    "warnings.filterwarnings(\"ignore\")"
   ]
  },
  {
   "cell_type": "code",
   "execution_count": 4,
   "metadata": {},
   "outputs": [],
   "source": [
    "# Define X and Y\n",
    "data = datasets.load_iris()\n",
    "X = data.data\n",
    "y = data.target\n",
    "\n",
    "# let's add the constant\n",
    "ones = np.ones((len(X),1))\n",
    "X = np.hstack((ones, X))"
   ]
  },
  {
   "cell_type": "markdown",
   "metadata": {},
   "source": [
    "Descritpion of the data set:\n",
    "\n",
    "1. sepal length in cm, A sepal is a part of the flower of angiosperms (flowering plants). Usually green, sepals typically function as protection for the flower in bud, and often as support for the petals when in bloom\n",
    "2. sepal width in cm \n",
    "3. petal length in cm \n",
    "4. petal width in cm \n",
    "\n",
    "We want to predict 3 different class of flowers:\n",
    "\n",
    "1. Iris Setosa (0)\n",
    "2. Iris Versicolour (1) \n",
    "3. Iris Virginica (2)"
   ]
  },
  {
   "cell_type": "code",
   "execution_count": 7,
   "metadata": {},
   "outputs": [],
   "source": [
    "# dividing X, y into train and test data \n",
    "X_train, X_test, y_train, y_test = train_test_split(X, y, random_state = 10) \n"
   ]
  },
  {
   "cell_type": "code",
   "execution_count": 14,
   "metadata": {},
   "outputs": [
    {
     "data": {
      "text/plain": [
       "array([0, 0, 0, 0, 0, 0, 0, 0, 0, 0, 0, 0, 0, 0, 0, 0, 0, 0, 0, 0, 0, 0,\n",
       "       0, 0, 0, 0, 0, 0, 0, 0, 0, 0, 0, 0, 0, 0, 0, 0, 0, 0, 0, 0, 0, 0,\n",
       "       0, 0, 0, 0, 0, 0, 1, 1, 1, 1, 1, 1, 1, 1, 1, 1, 1, 1, 1, 1, 1, 1,\n",
       "       1, 1, 1, 1, 1, 1, 1, 1, 1, 1, 1, 1, 1, 1, 1, 1, 1, 1, 1, 1, 1, 1,\n",
       "       1, 1, 1, 1, 1, 1, 1, 1, 1, 1, 1, 1, 2, 2, 2, 2, 2, 2, 2, 2, 2, 2,\n",
       "       2, 2, 2, 2, 2, 2, 2, 2, 2, 2, 2, 2, 2, 2, 2, 2, 2, 2, 2, 2, 2, 2,\n",
       "       2, 2, 2, 2, 2, 2, 2, 2, 2, 2, 2, 2, 2, 2, 2, 2, 2, 2])"
      ]
     },
     "execution_count": 14,
     "metadata": {},
     "output_type": "execute_result"
    }
   ],
   "source": [
    "y"
   ]
  },
  {
   "cell_type": "code",
   "execution_count": 11,
   "metadata": {},
   "outputs": [
    {
     "name": "stdout",
     "output_type": "stream",
     "text": [
      "[1 2 0]\n",
      "[2 0 1]\n"
     ]
    }
   ],
   "source": [
    "print(pd.unique(y_test))\n",
    "print(pd.unique(y_train))"
   ]
  },
  {
   "cell_type": "markdown",
   "metadata": {},
   "source": [
    "# Let's see how the Logistic regression performs"
   ]
  },
  {
   "cell_type": "code",
   "execution_count": 27,
   "metadata": {},
   "outputs": [],
   "source": [
    "clf = LogisticRegression(multi_class = 'multinomial', tol = 0.1,\n",
    "                         solver = 'saga', random_state=10)\n",
    "\n",
    "# we have different solver: ‘newton-cg’, ‘lbfgs’, ‘liblinear’, ‘sag’,\n",
    "# if we don't specify anything is 'liblinear’\n",
    "\n",
    "# we specify saga because it can handle the penalization L1 and L2 and elasticnet"
   ]
  },
  {
   "cell_type": "code",
   "execution_count": 28,
   "metadata": {},
   "outputs": [
    {
     "data": {
      "text/plain": [
       "LogisticRegression(C=1.0, class_weight=None, dual=False, fit_intercept=True,\n",
       "          intercept_scaling=1, max_iter=100, multi_class='multinomial',\n",
       "          n_jobs=None, penalty='l2', random_state=10, solver='saga',\n",
       "          tol=0.1, verbose=0, warm_start=False)"
      ]
     },
     "execution_count": 28,
     "metadata": {},
     "output_type": "execute_result"
    }
   ],
   "source": [
    "clf.fit(X_train, y_train)"
   ]
  },
  {
   "cell_type": "code",
   "execution_count": 29,
   "metadata": {},
   "outputs": [
    {
     "name": "stdout",
     "output_type": "stream",
     "text": [
      "The first type of flower of the training sample is 2\n",
      "The estimated probabilities\n",
      " [[4.21904728e-04 1.79328036e-01 8.20250059e-01]]\n",
      "The estimated class [2]\n"
     ]
    }
   ],
   "source": [
    "## In sample prediction\n",
    "print(\"The first type of flower of the training sample is\", y_train[0])\n",
    "print(\"The estimated probabilities\\n\", clf.predict_proba(X_train[[0]]))\n",
    "print(\"The estimated class\", clf.predict(X_train[[0]]))"
   ]
  },
  {
   "cell_type": "code",
   "execution_count": 30,
   "metadata": {},
   "outputs": [
    {
     "name": "stdout",
     "output_type": "stream",
     "text": [
      "The first type of flower of the test sample is 1\n",
      "The estimated probabilities\n",
      " [[0.03289629 0.55108958 0.41601413]]\n",
      "The estimated class [1]\n"
     ]
    }
   ],
   "source": [
    "## outof sample prediction\n",
    "print(\"The first type of flower of the test sample is\", y_test[0])\n",
    "print(\"The estimated probabilities\\n\", clf.predict_proba(X_test[[0]]))\n",
    "print(\"The estimated class\", clf.predict(X_test[[0]]))"
   ]
  },
  {
   "cell_type": "code",
   "execution_count": 31,
   "metadata": {},
   "outputs": [
    {
     "name": "stdout",
     "output_type": "stream",
     "text": [
      "The oos accuracy of the logistic is: 0.8947368421052632\n",
      "The insample accuracy of the logistic is: 0.9464285714285714\n"
     ]
    }
   ],
   "source": [
    "# let's see overall how much it is accurate using the accuracy score\n",
    "y_hat = clf.predict(X_test)\n",
    "print(\"The oos accuracy of the logistic is:\", accuracy_score(y_test, y_hat))\n",
    "# let's see overall how much it is accurate using the accuracy score\n",
    "y_hat_train = clf.predict(X_train)\n",
    "print(\"The insample accuracy of the logistic is:\", accuracy_score(y_train, y_hat_train))"
   ]
  },
  {
   "cell_type": "code",
   "execution_count": 32,
   "metadata": {},
   "outputs": [
    {
     "data": {
      "text/html": [
       "<div>\n",
       "<style scoped>\n",
       "    .dataframe tbody tr th:only-of-type {\n",
       "        vertical-align: middle;\n",
       "    }\n",
       "\n",
       "    .dataframe tbody tr th {\n",
       "        vertical-align: top;\n",
       "    }\n",
       "\n",
       "    .dataframe thead th {\n",
       "        text-align: right;\n",
       "    }\n",
       "</style>\n",
       "<table border=\"1\" class=\"dataframe\">\n",
       "  <thead>\n",
       "    <tr style=\"text-align: right;\">\n",
       "      <th></th>\n",
       "      <th>0</th>\n",
       "      <th>1</th>\n",
       "      <th>2</th>\n",
       "    </tr>\n",
       "  </thead>\n",
       "  <tbody>\n",
       "    <tr>\n",
       "      <th>0</th>\n",
       "      <td>11</td>\n",
       "      <td>0</td>\n",
       "      <td>0</td>\n",
       "    </tr>\n",
       "    <tr>\n",
       "      <th>1</th>\n",
       "      <td>0</td>\n",
       "      <td>11</td>\n",
       "      <td>4</td>\n",
       "    </tr>\n",
       "    <tr>\n",
       "      <th>2</th>\n",
       "      <td>0</td>\n",
       "      <td>0</td>\n",
       "      <td>12</td>\n",
       "    </tr>\n",
       "  </tbody>\n",
       "</table>\n",
       "</div>"
      ],
      "text/plain": [
       "    0   1   2\n",
       "0  11   0   0\n",
       "1   0  11   4\n",
       "2   0   0  12"
      ]
     },
     "execution_count": 32,
     "metadata": {},
     "output_type": "execute_result"
    }
   ],
   "source": [
    "# let's see the confusion matrix\n",
    "cm = pd.DataFrame(confusion_matrix(y_test, y_hat), index = ['0','1','2'],\n",
    "                  columns= ['0','1','2'])\n",
    "cm"
   ]
  },
  {
   "cell_type": "code",
   "execution_count": 57,
   "metadata": {},
   "outputs": [],
   "source": [
    "# Let'combine Logistic and Ridge, to apply some penalty to our parameters\n",
    "clf_ridge = LogisticRegression(multi_class = 'multinomial', tol = 0.1,\n",
    "                         solver = 'saga', penalty = 'l2', C = 0.001, random_state = 10)\n",
    "# C is the inverse of regularization strength; \n",
    "# must be a positive float. The smaller values specify stronger regularization\n",
    "\n",
    "# NB We are not doing any cross-validation\n",
    "\n",
    "# Try different values of C, the best tends to one, so no regularization,\n",
    "# becasue the normal logistic regression performs quite well."
   ]
  },
  {
   "cell_type": "markdown",
   "metadata": {},
   "source": [
    "#### How can we do cross validation?\n",
    "\n",
    "We can use GridSearchCV, and params will e C and we specify a grid over it. We cross validate on the training set and then we apply the best model from the cross validation to the test set"
   ]
  },
  {
   "cell_type": "code",
   "execution_count": 58,
   "metadata": {},
   "outputs": [],
   "source": [
    "# since we are applying lasso we need to rescale our data\n",
    "scaler = StandardScaler()\n",
    "X_train_std = scaler.fit_transform(X_train)\n",
    "X_test_std = scaler.fit_transform(X_test)"
   ]
  },
  {
   "cell_type": "code",
   "execution_count": 59,
   "metadata": {},
   "outputs": [
    {
     "name": "stdout",
     "output_type": "stream",
     "text": [
      "The accuracy of the penalized logistic is: 0.5789473684210527\n"
     ]
    }
   ],
   "source": [
    "clf_ridge.fit(X_train_std, y_train)\n",
    "y_hat = clf_ridge.predict(X_test_std)\n",
    "\n",
    "print(\"The accuracy of the penalized logistic is:\", accuracy_score(y_test, y_hat))"
   ]
  },
  {
   "cell_type": "code",
   "execution_count": 60,
   "metadata": {},
   "outputs": [
    {
     "data": {
      "text/html": [
       "<div>\n",
       "<style scoped>\n",
       "    .dataframe tbody tr th:only-of-type {\n",
       "        vertical-align: middle;\n",
       "    }\n",
       "\n",
       "    .dataframe tbody tr th {\n",
       "        vertical-align: top;\n",
       "    }\n",
       "\n",
       "    .dataframe thead th {\n",
       "        text-align: right;\n",
       "    }\n",
       "</style>\n",
       "<table border=\"1\" class=\"dataframe\">\n",
       "  <thead>\n",
       "    <tr style=\"text-align: right;\">\n",
       "      <th></th>\n",
       "      <th>0</th>\n",
       "      <th>1</th>\n",
       "      <th>2</th>\n",
       "    </tr>\n",
       "  </thead>\n",
       "  <tbody>\n",
       "    <tr>\n",
       "      <th>0</th>\n",
       "      <td>11</td>\n",
       "      <td>0</td>\n",
       "      <td>0</td>\n",
       "    </tr>\n",
       "    <tr>\n",
       "      <th>1</th>\n",
       "      <td>12</td>\n",
       "      <td>3</td>\n",
       "      <td>0</td>\n",
       "    </tr>\n",
       "    <tr>\n",
       "      <th>2</th>\n",
       "      <td>0</td>\n",
       "      <td>4</td>\n",
       "      <td>8</td>\n",
       "    </tr>\n",
       "  </tbody>\n",
       "</table>\n",
       "</div>"
      ],
      "text/plain": [
       "    0  1  2\n",
       "0  11  0  0\n",
       "1  12  3  0\n",
       "2   0  4  8"
      ]
     },
     "execution_count": 60,
     "metadata": {},
     "output_type": "execute_result"
    }
   ],
   "source": [
    "# let's see the confusion matrix\n",
    "cm = pd.DataFrame(confusion_matrix(y_test, y_hat), index = ['0','1','2'],\n",
    "                  columns= ['0','1','2'])\n",
    "cm"
   ]
  },
  {
   "cell_type": "markdown",
   "metadata": {},
   "source": [
    "# Let's move to something more complex: Random Forest"
   ]
  },
  {
   "cell_type": "code",
   "execution_count": 61,
   "metadata": {},
   "outputs": [],
   "source": [
    "clf_rf = RandomForestClassifier(random_state = 10, n_estimators = 200)"
   ]
  },
  {
   "cell_type": "code",
   "execution_count": 62,
   "metadata": {},
   "outputs": [
    {
     "name": "stdout",
     "output_type": "stream",
     "text": [
      "The accuracy of the RF classifier is: 0.9736842105263158\n"
     ]
    }
   ],
   "source": [
    "clf_rf.fit(X_train, y_train)\n",
    "y_hat = clf_rf.predict(X_test)\n",
    "\n",
    "print(\"The accuracy of the RF classifier is:\", accuracy_score(y_test, y_hat))"
   ]
  },
  {
   "cell_type": "code",
   "execution_count": 63,
   "metadata": {},
   "outputs": [
    {
     "data": {
      "text/html": [
       "<div>\n",
       "<style scoped>\n",
       "    .dataframe tbody tr th:only-of-type {\n",
       "        vertical-align: middle;\n",
       "    }\n",
       "\n",
       "    .dataframe tbody tr th {\n",
       "        vertical-align: top;\n",
       "    }\n",
       "\n",
       "    .dataframe thead th {\n",
       "        text-align: right;\n",
       "    }\n",
       "</style>\n",
       "<table border=\"1\" class=\"dataframe\">\n",
       "  <thead>\n",
       "    <tr style=\"text-align: right;\">\n",
       "      <th></th>\n",
       "      <th>0</th>\n",
       "      <th>1</th>\n",
       "      <th>2</th>\n",
       "    </tr>\n",
       "  </thead>\n",
       "  <tbody>\n",
       "    <tr>\n",
       "      <th>0</th>\n",
       "      <td>11</td>\n",
       "      <td>0</td>\n",
       "      <td>0</td>\n",
       "    </tr>\n",
       "    <tr>\n",
       "      <th>1</th>\n",
       "      <td>0</td>\n",
       "      <td>14</td>\n",
       "      <td>1</td>\n",
       "    </tr>\n",
       "    <tr>\n",
       "      <th>2</th>\n",
       "      <td>0</td>\n",
       "      <td>0</td>\n",
       "      <td>12</td>\n",
       "    </tr>\n",
       "  </tbody>\n",
       "</table>\n",
       "</div>"
      ],
      "text/plain": [
       "    0   1   2\n",
       "0  11   0   0\n",
       "1   0  14   1\n",
       "2   0   0  12"
      ]
     },
     "execution_count": 63,
     "metadata": {},
     "output_type": "execute_result"
    }
   ],
   "source": [
    "# let's see the confusion matrix\n",
    "cm = pd.DataFrame(confusion_matrix(y_test, y_hat), index = ['0','1','2'],\n",
    "                  columns= ['0','1','2'])\n",
    "cm"
   ]
  },
  {
   "cell_type": "code",
   "execution_count": null,
   "metadata": {},
   "outputs": [],
   "source": [
    "# Also here we can try to do cross-validation.\n",
    "\n",
    "# as we have seen in previous notebooks"
   ]
  },
  {
   "cell_type": "markdown",
   "metadata": {},
   "source": [
    "# Now let's see how Neural Network perform"
   ]
  },
  {
   "cell_type": "code",
   "execution_count": 66,
   "metadata": {},
   "outputs": [],
   "source": [
    "# we need to modify a bit the y_train and test\n",
    "y_train_nn = pd.get_dummies(y_train).values\n",
    "y_test_nn = pd.get_dummies(y_test).values"
   ]
  },
  {
   "cell_type": "code",
   "execution_count": 67,
   "metadata": {},
   "outputs": [
    {
     "data": {
      "text/plain": [
       "(112, 5)"
      ]
     },
     "execution_count": 67,
     "metadata": {},
     "output_type": "execute_result"
    }
   ],
   "source": [
    "X_train.shape"
   ]
  },
  {
   "cell_type": "code",
   "execution_count": 70,
   "metadata": {},
   "outputs": [],
   "source": [
    "num_classes = len(pd.unique(y_train))\n",
    "num_feat = X_train.shape[1]\n",
    " "
   ]
  },
  {
   "cell_type": "code",
   "execution_count": 81,
   "metadata": {},
   "outputs": [
    {
     "name": "stdout",
     "output_type": "stream",
     "text": [
      "Epoch 1/200\n",
      " - 0s - loss: 0.3237 - acc: 0.9643\n",
      "Epoch 2/200\n",
      " - 0s - loss: 0.3218 - acc: 0.9554\n",
      "Epoch 3/200\n",
      " - 0s - loss: 0.3087 - acc: 0.9018\n",
      "Epoch 4/200\n",
      " - 0s - loss: 0.3089 - acc: 0.9464\n",
      "Epoch 5/200\n",
      " - 0s - loss: 0.2972 - acc: 0.9554\n",
      "Epoch 6/200\n",
      " - 0s - loss: 0.2874 - acc: 0.9464\n",
      "Epoch 7/200\n",
      " - 0s - loss: 0.2789 - acc: 0.9464\n",
      "Epoch 8/200\n",
      " - 0s - loss: 0.2777 - acc: 0.9464\n",
      "Epoch 9/200\n",
      " - 0s - loss: 0.2660 - acc: 0.9821\n",
      "Epoch 10/200\n",
      " - 0s - loss: 0.2632 - acc: 0.9732\n",
      "Epoch 11/200\n",
      " - 0s - loss: 0.2613 - acc: 0.9821\n",
      "Epoch 12/200\n",
      " - 0s - loss: 0.2527 - acc: 0.9554\n",
      "Epoch 13/200\n",
      " - 0s - loss: 0.2457 - acc: 0.9732\n",
      "Epoch 14/200\n",
      " - 0s - loss: 0.2494 - acc: 0.9643\n",
      "Epoch 15/200\n",
      " - 0s - loss: 0.2455 - acc: 0.9554\n",
      "Epoch 16/200\n",
      " - 0s - loss: 0.2319 - acc: 0.9554\n",
      "Epoch 17/200\n",
      " - 0s - loss: 0.2291 - acc: 0.9554\n",
      "Epoch 18/200\n",
      " - 0s - loss: 0.2231 - acc: 0.9732\n",
      "Epoch 19/200\n",
      " - 0s - loss: 0.2231 - acc: 0.9821\n",
      "Epoch 20/200\n",
      " - 0s - loss: 0.2177 - acc: 0.9554\n",
      "Epoch 21/200\n",
      " - 0s - loss: 0.2202 - acc: 0.9643\n",
      "Epoch 22/200\n",
      " - 0s - loss: 0.2142 - acc: 0.9464\n",
      "Epoch 23/200\n",
      " - 0s - loss: 0.2043 - acc: 0.9821\n",
      "Epoch 24/200\n",
      " - 0s - loss: 0.2001 - acc: 0.9732\n",
      "Epoch 25/200\n",
      " - 0s - loss: 0.2028 - acc: 0.9554\n",
      "Epoch 26/200\n",
      " - 0s - loss: 0.1920 - acc: 0.9643\n",
      "Epoch 27/200\n",
      " - 0s - loss: 0.1906 - acc: 0.9911\n",
      "Epoch 28/200\n",
      " - 0s - loss: 0.1894 - acc: 0.9464\n",
      "Epoch 29/200\n",
      " - 0s - loss: 0.1829 - acc: 0.9821\n",
      "Epoch 30/200\n",
      " - 0s - loss: 0.1790 - acc: 0.9821\n",
      "Epoch 31/200\n",
      " - 0s - loss: 0.1767 - acc: 0.9732\n",
      "Epoch 32/200\n",
      " - 0s - loss: 0.1736 - acc: 0.9732\n",
      "Epoch 33/200\n",
      " - 0s - loss: 0.1726 - acc: 0.9732\n",
      "Epoch 34/200\n",
      " - 0s - loss: 0.1673 - acc: 0.9821\n",
      "Epoch 35/200\n",
      " - 0s - loss: 0.1660 - acc: 0.9732\n",
      "Epoch 36/200\n",
      " - 0s - loss: 0.1636 - acc: 0.9821\n",
      "Epoch 37/200\n",
      " - 0s - loss: 0.1616 - acc: 0.9732\n",
      "Epoch 38/200\n",
      " - 0s - loss: 0.1622 - acc: 0.9821\n",
      "Epoch 39/200\n",
      " - 0s - loss: 0.1591 - acc: 0.9732\n",
      "Epoch 40/200\n",
      " - 0s - loss: 0.1530 - acc: 0.9821\n",
      "Epoch 41/200\n",
      " - 0s - loss: 0.1503 - acc: 0.9821\n",
      "Epoch 42/200\n",
      " - 0s - loss: 0.1499 - acc: 0.9732\n",
      "Epoch 43/200\n",
      " - 0s - loss: 0.1490 - acc: 0.9821\n",
      "Epoch 44/200\n",
      " - 0s - loss: 0.1453 - acc: 0.9911\n",
      "Epoch 45/200\n",
      " - 0s - loss: 0.1430 - acc: 0.9821\n",
      "Epoch 46/200\n",
      " - 0s - loss: 0.1406 - acc: 0.9732\n",
      "Epoch 47/200\n",
      " - 0s - loss: 0.1389 - acc: 0.9732\n",
      "Epoch 48/200\n",
      " - 0s - loss: 0.1398 - acc: 0.9821\n",
      "Epoch 49/200\n",
      " - 0s - loss: 0.1339 - acc: 0.9821\n",
      "Epoch 50/200\n",
      " - 0s - loss: 0.1328 - acc: 0.9821\n",
      "Epoch 51/200\n",
      " - 0s - loss: 0.1319 - acc: 0.9821\n",
      "Epoch 52/200\n",
      " - 0s - loss: 0.1306 - acc: 0.9821\n",
      "Epoch 53/200\n",
      " - 0s - loss: 0.1292 - acc: 0.9732\n",
      "Epoch 54/200\n",
      " - 0s - loss: 0.1244 - acc: 0.9821\n",
      "Epoch 55/200\n",
      " - 0s - loss: 0.1260 - acc: 0.9821\n",
      "Epoch 56/200\n",
      " - 0s - loss: 0.1277 - acc: 0.9643\n",
      "Epoch 57/200\n",
      " - 0s - loss: 0.1275 - acc: 0.9821\n",
      "Epoch 58/200\n",
      " - 0s - loss: 0.1244 - acc: 0.9732\n",
      "Epoch 59/200\n",
      " - 0s - loss: 0.1200 - acc: 0.9732\n",
      "Epoch 60/200\n",
      " - 0s - loss: 0.1175 - acc: 0.9732\n",
      "Epoch 61/200\n",
      " - 0s - loss: 0.1168 - acc: 0.9911\n",
      "Epoch 62/200\n",
      " - 0s - loss: 0.1150 - acc: 0.9821\n",
      "Epoch 63/200\n",
      " - 0s - loss: 0.1145 - acc: 0.9821\n",
      "Epoch 64/200\n",
      " - 0s - loss: 0.1151 - acc: 0.9821\n",
      "Epoch 65/200\n",
      " - 0s - loss: 0.1128 - acc: 0.9821\n",
      "Epoch 66/200\n",
      " - 0s - loss: 0.1136 - acc: 0.9821\n",
      "Epoch 67/200\n",
      " - 0s - loss: 0.1102 - acc: 0.9821\n",
      "Epoch 68/200\n",
      " - 0s - loss: 0.1106 - acc: 0.9821\n",
      "Epoch 69/200\n",
      " - 0s - loss: 0.1094 - acc: 0.9821\n",
      "Epoch 70/200\n",
      " - 0s - loss: 0.1048 - acc: 0.9821\n",
      "Epoch 71/200\n",
      " - 0s - loss: 0.1044 - acc: 0.9821\n",
      "Epoch 72/200\n",
      " - 0s - loss: 0.1053 - acc: 0.9821\n",
      "Epoch 73/200\n",
      " - 0s - loss: 0.1077 - acc: 0.9643\n",
      "Epoch 74/200\n",
      " - 0s - loss: 0.1068 - acc: 0.9732\n",
      "Epoch 75/200\n",
      " - 0s - loss: 0.1019 - acc: 0.9821\n",
      "Epoch 76/200\n",
      " - 0s - loss: 0.1029 - acc: 0.9732\n",
      "Epoch 77/200\n",
      " - 0s - loss: 0.1078 - acc: 0.9643\n",
      "Epoch 78/200\n",
      " - 0s - loss: 0.0991 - acc: 0.9821\n",
      "Epoch 79/200\n",
      " - 0s - loss: 0.0994 - acc: 0.9732\n",
      "Epoch 80/200\n",
      " - 0s - loss: 0.1040 - acc: 0.9821\n",
      "Epoch 81/200\n",
      " - 0s - loss: 0.0969 - acc: 0.9821\n",
      "Epoch 82/200\n",
      " - 0s - loss: 0.1002 - acc: 0.9732\n",
      "Epoch 83/200\n",
      " - 0s - loss: 0.0960 - acc: 0.9821\n",
      "Epoch 84/200\n",
      " - 0s - loss: 0.0997 - acc: 0.9821\n",
      "Epoch 85/200\n",
      " - 0s - loss: 0.0937 - acc: 0.9821\n",
      "Epoch 86/200\n",
      " - 0s - loss: 0.0960 - acc: 0.9821\n",
      "Epoch 87/200\n",
      " - 0s - loss: 0.0938 - acc: 0.9821\n",
      "Epoch 88/200\n",
      " - 0s - loss: 0.1073 - acc: 0.9643\n",
      "Epoch 89/200\n",
      " - 0s - loss: 0.0942 - acc: 0.9732\n",
      "Epoch 90/200\n",
      " - 0s - loss: 0.1080 - acc: 0.9643\n",
      "Epoch 91/200\n",
      " - 0s - loss: 0.1009 - acc: 0.9643\n",
      "Epoch 92/200\n",
      " - 0s - loss: 0.0991 - acc: 0.9732\n",
      "Epoch 93/200\n",
      " - 0s - loss: 0.0889 - acc: 0.9821\n",
      "Epoch 94/200\n",
      " - 0s - loss: 0.0882 - acc: 0.9821\n",
      "Epoch 95/200\n",
      " - 0s - loss: 0.0903 - acc: 0.9732\n",
      "Epoch 96/200\n",
      " - 0s - loss: 0.0876 - acc: 0.9821\n",
      "Epoch 97/200\n",
      " - 0s - loss: 0.0883 - acc: 0.9821\n",
      "Epoch 98/200\n",
      " - 0s - loss: 0.0869 - acc: 0.9821\n",
      "Epoch 99/200\n",
      " - 0s - loss: 0.0859 - acc: 0.9821\n",
      "Epoch 100/200\n",
      " - 0s - loss: 0.0856 - acc: 0.9821\n",
      "Epoch 101/200\n",
      " - 0s - loss: 0.0899 - acc: 0.9732\n",
      "Epoch 102/200\n",
      " - 0s - loss: 0.0850 - acc: 0.9821\n",
      "Epoch 103/200\n",
      " - 0s - loss: 0.0842 - acc: 0.9911\n",
      "Epoch 104/200\n",
      " - 0s - loss: 0.0843 - acc: 0.9821\n",
      "Epoch 105/200\n",
      " - 0s - loss: 0.0832 - acc: 0.9821\n",
      "Epoch 106/200\n",
      " - 0s - loss: 0.0832 - acc: 0.9821\n",
      "Epoch 107/200\n",
      " - 0s - loss: 0.0838 - acc: 0.9821\n",
      "Epoch 108/200\n",
      " - 0s - loss: 0.0827 - acc: 0.9821\n",
      "Epoch 109/200\n",
      " - 0s - loss: 0.0839 - acc: 0.9821\n",
      "Epoch 110/200\n",
      " - 0s - loss: 0.0833 - acc: 0.9821\n",
      "Epoch 111/200\n",
      " - 0s - loss: 0.0816 - acc: 0.9732\n",
      "Epoch 112/200\n",
      " - 0s - loss: 0.0815 - acc: 0.9911\n",
      "Epoch 113/200\n",
      " - 0s - loss: 0.0812 - acc: 0.9821\n",
      "Epoch 114/200\n",
      " - 0s - loss: 0.0807 - acc: 0.9821\n",
      "Epoch 115/200\n",
      " - 0s - loss: 0.0849 - acc: 0.9821\n",
      "Epoch 116/200\n",
      " - 0s - loss: 0.0818 - acc: 0.9732\n",
      "Epoch 117/200\n",
      " - 0s - loss: 0.0849 - acc: 0.9821\n",
      "Epoch 118/200\n",
      " - 0s - loss: 0.0857 - acc: 0.9643\n",
      "Epoch 119/200\n",
      " - 0s - loss: 0.0803 - acc: 0.9821\n",
      "Epoch 120/200\n",
      " - 0s - loss: 0.0820 - acc: 0.9821\n",
      "Epoch 121/200\n",
      " - 0s - loss: 0.0771 - acc: 0.9821\n",
      "Epoch 122/200\n",
      " - 0s - loss: 0.0765 - acc: 0.9911\n",
      "Epoch 123/200\n",
      " - 0s - loss: 0.0817 - acc: 0.9732\n",
      "Epoch 124/200\n",
      " - 0s - loss: 0.0852 - acc: 0.9821\n",
      "Epoch 125/200\n",
      " - 0s - loss: 0.0777 - acc: 0.9732\n",
      "Epoch 126/200\n",
      " - 0s - loss: 0.0760 - acc: 0.9821\n",
      "Epoch 127/200\n",
      " - 0s - loss: 0.0755 - acc: 0.9821\n",
      "Epoch 128/200\n",
      " - 0s - loss: 0.0751 - acc: 0.9821\n",
      "Epoch 129/200\n",
      " - 0s - loss: 0.0783 - acc: 0.9821\n",
      "Epoch 130/200\n",
      " - 0s - loss: 0.0763 - acc: 0.9821\n",
      "Epoch 131/200\n",
      " - 0s - loss: 0.0746 - acc: 0.9911\n",
      "Epoch 132/200\n",
      " - 0s - loss: 0.0759 - acc: 0.9821\n",
      "Epoch 133/200\n",
      " - 0s - loss: 0.0759 - acc: 0.9821\n",
      "Epoch 134/200\n",
      " - 0s - loss: 0.0739 - acc: 0.9821\n",
      "Epoch 135/200\n",
      " - 0s - loss: 0.0786 - acc: 0.9821\n",
      "Epoch 136/200\n",
      " - 0s - loss: 0.0737 - acc: 0.9911\n",
      "Epoch 137/200\n",
      " - 0s - loss: 0.0759 - acc: 0.9821\n",
      "Epoch 138/200\n",
      " - 0s - loss: 0.0729 - acc: 0.9821\n",
      "Epoch 139/200\n",
      " - 0s - loss: 0.0773 - acc: 0.9821\n",
      "Epoch 140/200\n",
      " - 0s - loss: 0.0721 - acc: 0.9821\n",
      "Epoch 141/200\n",
      " - 0s - loss: 0.0722 - acc: 0.9821\n",
      "Epoch 142/200\n",
      " - 0s - loss: 0.0739 - acc: 0.9821\n",
      "Epoch 143/200\n",
      " - 0s - loss: 0.0776 - acc: 0.9643\n",
      "Epoch 144/200\n",
      " - 0s - loss: 0.0684 - acc: 0.9821\n",
      "Epoch 145/200\n",
      " - 0s - loss: 0.0747 - acc: 0.9821\n",
      "Epoch 146/200\n",
      " - 0s - loss: 0.0709 - acc: 0.9821\n",
      "Epoch 147/200\n",
      " - 0s - loss: 0.0728 - acc: 0.9821\n",
      "Epoch 148/200\n",
      " - 0s - loss: 0.0730 - acc: 0.9643\n",
      "Epoch 149/200\n",
      " - 0s - loss: 0.0728 - acc: 0.9821\n",
      "Epoch 150/200\n",
      " - 0s - loss: 0.0726 - acc: 0.9821\n",
      "Epoch 151/200\n",
      " - 0s - loss: 0.0716 - acc: 0.9732\n",
      "Epoch 152/200\n",
      " - 0s - loss: 0.0684 - acc: 0.9911\n",
      "Epoch 153/200\n",
      " - 0s - loss: 0.0692 - acc: 0.9821\n",
      "Epoch 154/200\n",
      " - 0s - loss: 0.0724 - acc: 0.9821\n",
      "Epoch 155/200\n",
      " - 0s - loss: 0.0721 - acc: 0.9732\n",
      "Epoch 156/200\n",
      " - 0s - loss: 0.0998 - acc: 0.9554\n",
      "Epoch 157/200\n",
      " - 0s - loss: 0.0763 - acc: 0.9732\n",
      "Epoch 158/200\n",
      " - 0s - loss: 0.0701 - acc: 0.9821\n",
      "Epoch 159/200\n",
      " - 0s - loss: 0.0679 - acc: 0.9821\n",
      "Epoch 160/200\n",
      " - 0s - loss: 0.0668 - acc: 0.9821\n",
      "Epoch 161/200\n",
      " - 0s - loss: 0.0803 - acc: 0.9643\n",
      "Epoch 162/200\n",
      " - 0s - loss: 0.0720 - acc: 0.9821\n",
      "Epoch 163/200\n",
      " - 0s - loss: 0.0716 - acc: 0.9821\n",
      "Epoch 164/200\n",
      " - 0s - loss: 0.0707 - acc: 0.9911\n",
      "Epoch 165/200\n",
      " - 0s - loss: 0.0722 - acc: 0.9821\n",
      "Epoch 166/200\n",
      " - 0s - loss: 0.0697 - acc: 0.9911\n",
      "Epoch 167/200\n",
      " - 0s - loss: 0.0708 - acc: 0.9643\n",
      "Epoch 168/200\n",
      " - 0s - loss: 0.0657 - acc: 0.9821\n",
      "Epoch 169/200\n",
      " - 0s - loss: 0.0664 - acc: 0.9821\n",
      "Epoch 170/200\n",
      " - 0s - loss: 0.0666 - acc: 0.9821\n"
     ]
    },
    {
     "name": "stdout",
     "output_type": "stream",
     "text": [
      "Epoch 171/200\n",
      " - 0s - loss: 0.0689 - acc: 0.9821\n",
      "Epoch 172/200\n",
      " - 0s - loss: 0.0665 - acc: 0.9821\n",
      "Epoch 173/200\n",
      " - 0s - loss: 0.0683 - acc: 0.9821\n",
      "Epoch 174/200\n",
      " - 0s - loss: 0.0721 - acc: 0.9821\n",
      "Epoch 175/200\n",
      " - 0s - loss: 0.0647 - acc: 0.9821\n",
      "Epoch 176/200\n",
      " - 0s - loss: 0.0659 - acc: 0.9821\n",
      "Epoch 177/200\n",
      " - 0s - loss: 0.0734 - acc: 0.9732\n",
      "Epoch 178/200\n",
      " - 0s - loss: 0.0701 - acc: 0.9821\n",
      "Epoch 179/200\n",
      " - 0s - loss: 0.0639 - acc: 0.9821\n",
      "Epoch 180/200\n",
      " - 0s - loss: 0.0667 - acc: 0.9732\n",
      "Epoch 181/200\n",
      " - 0s - loss: 0.0657 - acc: 0.9821\n",
      "Epoch 182/200\n",
      " - 0s - loss: 0.0676 - acc: 0.9821\n",
      "Epoch 183/200\n",
      " - 0s - loss: 0.0680 - acc: 0.9732\n",
      "Epoch 184/200\n",
      " - 0s - loss: 0.0686 - acc: 0.9821\n",
      "Epoch 185/200\n",
      " - 0s - loss: 0.0745 - acc: 0.9732\n",
      "Epoch 186/200\n",
      " - 0s - loss: 0.0714 - acc: 0.9821\n",
      "Epoch 187/200\n",
      " - 0s - loss: 0.0691 - acc: 0.9732\n",
      "Epoch 188/200\n",
      " - 0s - loss: 0.0691 - acc: 0.9821\n",
      "Epoch 189/200\n",
      " - 0s - loss: 0.0588 - acc: 0.9821\n",
      "Epoch 190/200\n",
      " - 0s - loss: 0.0668 - acc: 0.9732\n",
      "Epoch 191/200\n",
      " - 0s - loss: 0.0646 - acc: 0.9821\n",
      "Epoch 192/200\n",
      " - 0s - loss: 0.0662 - acc: 0.9821\n",
      "Epoch 193/200\n",
      " - 0s - loss: 0.0630 - acc: 0.9821\n",
      "Epoch 194/200\n",
      " - 0s - loss: 0.0656 - acc: 0.9821\n",
      "Epoch 195/200\n",
      " - 0s - loss: 0.0685 - acc: 0.9821\n",
      "Epoch 196/200\n",
      " - 0s - loss: 0.0680 - acc: 0.9732\n",
      "Epoch 197/200\n",
      " - 0s - loss: 0.0686 - acc: 0.9821\n",
      "Epoch 198/200\n",
      " - 0s - loss: 0.0673 - acc: 0.9732\n",
      "Epoch 199/200\n",
      " - 0s - loss: 0.0716 - acc: 0.9821\n",
      "Epoch 200/200\n",
      " - 0s - loss: 0.0648 - acc: 0.9732\n",
      "Baseline Error: 0.00%\n"
     ]
    }
   ],
   "source": [
    "# Fit the model\n",
    "clf_nn.fit(X_train, y_train_nn, epochs=200, batch_size=5, verbose=2)\n",
    "# Final evaluation of the model\n",
    "scores = clf_nn.evaluate(X_test, y_test_nn, verbose=0)\n",
    "print(\"Baseline Error: %.2f%%\" % (100-scores[1]*100))"
   ]
  },
  {
   "cell_type": "code",
   "execution_count": 82,
   "metadata": {},
   "outputs": [
    {
     "name": "stdout",
     "output_type": "stream",
     "text": [
      "_________________________________________________________________\n",
      "Layer (type)                 Output Shape              Param #   \n",
      "=================================================================\n",
      "dense_4 (Dense)              (None, 10)                60        \n",
      "_________________________________________________________________\n",
      "dense_5 (Dense)              (None, 10)                110       \n",
      "_________________________________________________________________\n",
      "dense_6 (Dense)              (None, 3)                 33        \n",
      "=================================================================\n",
      "Total params: 203\n",
      "Trainable params: 203\n",
      "Non-trainable params: 0\n",
      "_________________________________________________________________\n"
     ]
    }
   ],
   "source": [
    "clf_nn.summary()"
   ]
  },
  {
   "cell_type": "code",
   "execution_count": 83,
   "metadata": {},
   "outputs": [
    {
     "name": "stdout",
     "output_type": "stream",
     "text": [
      "Test loss: 0.048948973613350016\n",
      "Test accuracy: 1.0\n"
     ]
    }
   ],
   "source": [
    "# Model evaluation\n",
    "# evaluate model\n",
    "score = clf_nn.evaluate(X_test, y_test_nn, verbose=0)\n",
    "print('Test loss:', score[0])\n",
    "print('Test accuracy:', score[1])"
   ]
  },
  {
   "cell_type": "code",
   "execution_count": 84,
   "metadata": {},
   "outputs": [],
   "source": [
    "# Look at confusion matrix \n",
    "#Note, this code is taken straight from the SKLEARN website, an nice way of viewing confusion matrix.\n",
    "def plot_confusion_matrix(cm, classes,\n",
    "                          normalize=False,\n",
    "                          title='Confusion matrix',\n",
    "                          cmap=plt.cm.Blues):\n",
    "    \"\"\"\n",
    "    This function prints and plots the confusion matrix.\n",
    "    Normalization can be applied by setting `normalize=True`.\n",
    "    \"\"\"\n",
    "    plt.imshow(cm, interpolation='nearest', cmap=cmap)\n",
    "    plt.title(title)\n",
    "    plt.colorbar()\n",
    "    tick_marks = np.arange(len(classes))\n",
    "    plt.xticks(tick_marks, classes, rotation=45)\n",
    "    plt.yticks(tick_marks, classes)\n",
    "\n",
    "    if normalize:\n",
    "        cm = cm.astype('float') / cm.sum(axis=1)[:, np.newaxis]\n",
    "\n",
    "    thresh = cm.max() / 2.\n",
    "    for i, j in itertools.product(range(cm.shape[0]), range(cm.shape[1])):\n",
    "        plt.text(j, i, cm[i, j],\n",
    "                 horizontalalignment=\"center\",\n",
    "                 color=\"white\" if cm[i, j] > thresh else \"black\")\n",
    "\n",
    "    plt.tight_layout()\n",
    "    plt.ylabel('True label')\n",
    "    plt.xlabel('Predicted label')"
   ]
  },
  {
   "cell_type": "code",
   "execution_count": 85,
   "metadata": {},
   "outputs": [
    {
     "data": {
      "image/png": "[encoded data removed]",
      "text/plain": [
       "<Figure size 432x288 with 2 Axes>"
      ]
     },
     "metadata": {
      "needs_background": "light"
     },
     "output_type": "display_data"
    }
   ],
   "source": [
    "# Predict the values from the validation dataset\n",
    "y_pred = clf_nn.predict(X_test)\n",
    "# Convert predictions classes to one hot vectors \n",
    "y_pred_classes = np.argmax(y_pred, axis = 1) \n",
    "# Convert validation observations to one hot vectors\n",
    "y_true_nn = np.argmax(y_test_nn, axis = 1) \n",
    "# compute the confusion matrix\n",
    "confusion_mtx = confusion_matrix(y_true_nn, y_pred_classes) \n",
    "# plot the confusion matrix\n",
    "plot_confusion_matrix(confusion_mtx, classes = range(3))"
   ]
  },
  {
   "cell_type": "code",
   "execution_count": null,
   "metadata": {},
   "outputs": [],
   "source": []
  }
 ],
 "metadata": {
  "@webio": {
   "lastCommId": null,
   "lastKernelId": null
  },
  "kernelspec": {
   "display_name": "Python 3",
   "language": "python",
   "name": "python3"
  },
  "language_info": {
   "codemirror_mode": {
    "name": "ipython",
    "version": 3
   },
   "file_extension": ".py",
   "mimetype": "text/x-python",
   "name": "python",
   "nbconvert_exporter": "python",
   "pygments_lexer": "ipython3",
   "version": "3.7.3"
  }
 },
 "nbformat": 4,
 "nbformat_minor": 2
}
