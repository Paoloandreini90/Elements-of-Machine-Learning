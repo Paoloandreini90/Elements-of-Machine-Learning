{
 "cells": [
  {
   "cell_type": "markdown",
   "metadata": {},
   "source": [
    "# Ridge and Lasso regression "
   ]
  },
  {
   "cell_type": "markdown",
   "metadata": {},
   "source": [
    "We use Ridge and Lasso regression to predict the boston house median value.\n",
    "\n",
    "We show how to calibrate the hyperparameters using cross-validation in different way:\n",
    "\n",
    "1. GridSearchCV \n",
    "2. Cross-validation coded without using any package."
   ]
  },
  {
   "cell_type": "code",
   "execution_count": null,
   "metadata": {},
   "outputs": [],
   "source": [
    "import numpy as np\n",
    "import random\n",
    "import matplotlib.pyplot as plt\n",
    "import pandas as pd\n",
    "from sklearn import linear_model\n",
    "from sklearn.model_selection import train_test_split, cross_val_score\n",
    "from sklearn.linear_model import LinearRegression\n",
    "from sklearn.linear_model import Ridge\n",
    "from sklearn.linear_model import Lasso\n",
    "from sklearn.model_selection import GridSearchCV\n",
    "from sklearn.metrics import mean_squared_error\n",
    "from sklearn.linear_model import LassoCV\n",
    "from sklearn.linear_model import RidgeCV\n",
    "from sklearn.linear_model import LinearRegression\n",
    "from sklearn.metrics import mean_squared_error\n",
    "import warnings\n",
    "warnings.filterwarnings(\"ignore\")"
   ]
  },
  {
   "cell_type": "markdown",
   "metadata": {},
   "source": [
    "# Focus on the importance of the hyperparameters"
   ]
  },
  {
   "cell_type": "code",
   "execution_count": 2,
   "metadata": {},
   "outputs": [
    {
     "name": "stdout",
     "output_type": "stream",
     "text": [
      "(506, 14)\n"
     ]
    },
    {
     "data": {
      "text/html": [
       "<div>\n",
       "<style scoped>\n",
       "    .dataframe tbody tr th:only-of-type {\n",
       "        vertical-align: middle;\n",
       "    }\n",
       "\n",
       "    .dataframe tbody tr th {\n",
       "        vertical-align: top;\n",
       "    }\n",
       "\n",
       "    .dataframe thead th {\n",
       "        text-align: right;\n",
       "    }\n",
       "</style>\n",
       "<table border=\"1\" class=\"dataframe\">\n",
       "  <thead>\n",
       "    <tr style=\"text-align: right;\">\n",
       "      <th></th>\n",
       "      <th>crim</th>\n",
       "      <th>zn</th>\n",
       "      <th>indus</th>\n",
       "      <th>chas</th>\n",
       "      <th>nox</th>\n",
       "      <th>rm</th>\n",
       "      <th>age</th>\n",
       "      <th>dis</th>\n",
       "      <th>rad</th>\n",
       "      <th>tax</th>\n",
       "      <th>ptratio</th>\n",
       "      <th>b</th>\n",
       "      <th>lstat</th>\n",
       "      <th>medv</th>\n",
       "    </tr>\n",
       "  </thead>\n",
       "  <tbody>\n",
       "    <tr>\n",
       "      <th>0</th>\n",
       "      <td>0.00632</td>\n",
       "      <td>18.0</td>\n",
       "      <td>2.31</td>\n",
       "      <td>0</td>\n",
       "      <td>0.538</td>\n",
       "      <td>6.575</td>\n",
       "      <td>65.2</td>\n",
       "      <td>4.0900</td>\n",
       "      <td>1</td>\n",
       "      <td>296</td>\n",
       "      <td>15.3</td>\n",
       "      <td>396.90</td>\n",
       "      <td>4.98</td>\n",
       "      <td>24.0</td>\n",
       "    </tr>\n",
       "    <tr>\n",
       "      <th>1</th>\n",
       "      <td>0.02731</td>\n",
       "      <td>0.0</td>\n",
       "      <td>7.07</td>\n",
       "      <td>0</td>\n",
       "      <td>0.469</td>\n",
       "      <td>6.421</td>\n",
       "      <td>78.9</td>\n",
       "      <td>4.9671</td>\n",
       "      <td>2</td>\n",
       "      <td>242</td>\n",
       "      <td>17.8</td>\n",
       "      <td>396.90</td>\n",
       "      <td>9.14</td>\n",
       "      <td>21.6</td>\n",
       "    </tr>\n",
       "    <tr>\n",
       "      <th>2</th>\n",
       "      <td>0.02729</td>\n",
       "      <td>0.0</td>\n",
       "      <td>7.07</td>\n",
       "      <td>0</td>\n",
       "      <td>0.469</td>\n",
       "      <td>7.185</td>\n",
       "      <td>61.1</td>\n",
       "      <td>4.9671</td>\n",
       "      <td>2</td>\n",
       "      <td>242</td>\n",
       "      <td>17.8</td>\n",
       "      <td>392.83</td>\n",
       "      <td>4.03</td>\n",
       "      <td>34.7</td>\n",
       "    </tr>\n",
       "    <tr>\n",
       "      <th>3</th>\n",
       "      <td>0.03237</td>\n",
       "      <td>0.0</td>\n",
       "      <td>2.18</td>\n",
       "      <td>0</td>\n",
       "      <td>0.458</td>\n",
       "      <td>6.998</td>\n",
       "      <td>45.8</td>\n",
       "      <td>6.0622</td>\n",
       "      <td>3</td>\n",
       "      <td>222</td>\n",
       "      <td>18.7</td>\n",
       "      <td>394.63</td>\n",
       "      <td>2.94</td>\n",
       "      <td>33.4</td>\n",
       "    </tr>\n",
       "    <tr>\n",
       "      <th>4</th>\n",
       "      <td>0.06905</td>\n",
       "      <td>0.0</td>\n",
       "      <td>2.18</td>\n",
       "      <td>0</td>\n",
       "      <td>0.458</td>\n",
       "      <td>7.147</td>\n",
       "      <td>54.2</td>\n",
       "      <td>6.0622</td>\n",
       "      <td>3</td>\n",
       "      <td>222</td>\n",
       "      <td>18.7</td>\n",
       "      <td>396.90</td>\n",
       "      <td>5.33</td>\n",
       "      <td>36.2</td>\n",
       "    </tr>\n",
       "  </tbody>\n",
       "</table>\n",
       "</div>"
      ],
      "text/plain": [
       "      crim    zn  indus  chas    nox     rm   age     dis  rad  tax  ptratio  \\\n",
       "0  0.00632  18.0   2.31     0  0.538  6.575  65.2  4.0900    1  296     15.3   \n",
       "1  0.02731   0.0   7.07     0  0.469  6.421  78.9  4.9671    2  242     17.8   \n",
       "2  0.02729   0.0   7.07     0  0.469  7.185  61.1  4.9671    2  242     17.8   \n",
       "3  0.03237   0.0   2.18     0  0.458  6.998  45.8  6.0622    3  222     18.7   \n",
       "4  0.06905   0.0   2.18     0  0.458  7.147  54.2  6.0622    3  222     18.7   \n",
       "\n",
       "        b  lstat  medv  \n",
       "0  396.90   4.98  24.0  \n",
       "1  396.90   9.14  21.6  \n",
       "2  392.83   4.03  34.7  \n",
       "3  394.63   2.94  33.4  \n",
       "4  396.90   5.33  36.2  "
      ]
     },
     "execution_count": 2,
     "metadata": {},
     "output_type": "execute_result"
    }
   ],
   "source": [
    "data = pd.read_csv(\"../Dataset/BostonHouse.csv\")\n",
    "print(data.shape)\n",
    "data.head()"
   ]
  },
  {
   "cell_type": "code",
   "execution_count": 18,
   "metadata": {},
   "outputs": [
    {
     "data": {
      "text/plain": [
       "array([ 18. ,   0. ,  12.5,  75. ,  21. ,  90. ,  85. , 100. ,  25. ,\n",
       "        17.5,  80. ,  28. ,  45. ,  60. ,  95. ,  82.5,  30. ,  22. ,\n",
       "        20. ,  40. ,  55. ,  52.5,  70. ,  34. ,  33. ,  35. ])"
      ]
     },
     "execution_count": 18,
     "metadata": {},
     "output_type": "execute_result"
    }
   ],
   "source": [
    "pd.unique(data['zn'])"
   ]
  },
  {
   "cell_type": "code",
   "execution_count": null,
   "metadata": {},
   "outputs": [],
   "source": [
    "\"\"\"\"\n",
    "Alternative way to import the same dataset\n",
    "from sklearn.datasets import load_boston\n",
    "data = load_boston()\n",
    "data = pd.DataFrame(boston.data,columns=boston.feature_names)\n",
    "data.head()\n",
    "# add target \n",
    "data['price'] = boston.target\n",
    "\"\"\""
   ]
  },
  {
   "cell_type": "code",
   "execution_count": 19,
   "metadata": {},
   "outputs": [],
   "source": [
    "# we get rid og these variables because they are categorical\n",
    "X = data.drop(['zn','rad','medv'], axis = 1)\n",
    "y = data['medv']"
   ]
  },
  {
   "cell_type": "markdown",
   "metadata": {},
   "source": [
    "# No Cross-Validation, we try only one alpha random"
   ]
  },
  {
   "cell_type": "code",
   "execution_count": 20,
   "metadata": {},
   "outputs": [],
   "source": [
    "# Split the sample \n",
    "X_train, X_test, y_train, y_test = train_test_split(X,y, test_size = 0.2, random_state = 10)"
   ]
  },
  {
   "cell_type": "code",
   "execution_count": 21,
   "metadata": {},
   "outputs": [],
   "source": [
    "# Speicfy the λ parameter\n",
    "lin_reg = LinearRegression()\n",
    "ridge_reg = Ridge(alpha = 0.5)\n",
    "lasso_reg = Lasso(alpha = 0.5)"
   ]
  },
  {
   "cell_type": "code",
   "execution_count": 22,
   "metadata": {},
   "outputs": [
    {
     "data": {
      "text/plain": [
       "Lasso(alpha=0.5, copy_X=True, fit_intercept=True, max_iter=1000,\n",
       "   normalize=False, positive=False, precompute=False, random_state=None,\n",
       "   selection='cyclic', tol=0.0001, warm_start=False)"
      ]
     },
     "execution_count": 22,
     "metadata": {},
     "output_type": "execute_result"
    }
   ],
   "source": [
    "# Fit the model\n",
    "lin_reg.fit(X_train, y_train)\n",
    "ridge_reg.fit(X_train, y_train)\n",
    "lasso_reg.fit(X_train, y_train)"
   ]
  },
  {
   "cell_type": "code",
   "execution_count": 23,
   "metadata": {},
   "outputs": [
    {
     "name": "stdout",
     "output_type": "stream",
     "text": [
      "MSE oos Linear Regression: 33.23413967236286\n",
      "MSE oos Ridge: 33.52851898955666\n",
      "MSE oos Lasso: 40.08403870234899\n"
     ]
    }
   ],
   "source": [
    "# Predict\n",
    "pred_lin = lin_reg.predict(X_test)\n",
    "pred_ridge = ridge_reg.predict(X_test)\n",
    "pred_lasso = lasso_reg.predict(X_test)\n",
    "\n",
    "print('MSE oos Linear Regression: ' + str(np.mean((pred_lin - y_test)**2)))\n",
    "print('MSE oos Ridge: ' + str(np.mean((pred_ridge - y_test)**2)))\n",
    "print('MSE oos Lasso: ' + str(np.mean((pred_lasso - y_test)**2)))\n",
    "\n",
    "# Using the function mean_squared_error is the same\n",
    "# print('MSE oos Linear Regression: ' + str(mean_squared_error(y_test, pred_lin)))\n",
    "# print('MSE oos Ridge: ' + str(mean_squared_error(y_test, pred_ridge)))\n",
    "# print('MSE oos Lasso: ' + str(mean_squared_error(y_test, pred_lasso)))"
   ]
  },
  {
   "cell_type": "markdown",
   "metadata": {},
   "source": [
    "# Cross-Vaildation, using only one alpha"
   ]
  },
  {
   "cell_type": "code",
   "execution_count": 24,
   "metadata": {},
   "outputs": [],
   "source": [
    "# Models\n",
    "lin_reg2 = LinearRegression()\n",
    "ridge_reg2 = Ridge(alpha = 0.5)\n",
    "lasso_reg2 = Lasso(alpha = 0.5)"
   ]
  },
  {
   "cell_type": "code",
   "execution_count": 25,
   "metadata": {},
   "outputs": [
    {
     "name": "stdout",
     "output_type": "stream",
     "text": [
      "Mean MSE lin reg: 36.12144451676859\n",
      "Mean MSE ridge reg: 35.68322843991933\n",
      "Mean MSE lasso reg: 34.660555264922195\n",
      "\n",
      "Min MSE lin reg: 8.515384570687695\n",
      "Min MSE ridge reg: 8.58802057488008\n",
      "Min MSE lasso reg: 10.531168366887572\n"
     ]
    }
   ],
   "source": [
    "# fit and compute MSE on the entire sample\n",
    "lin_reg2_ = cross_val_score(lin_reg2, X,y, scoring = 'neg_mean_squared_error', cv = 10)\n",
    "ridge_reg2_ = cross_val_score(ridge_reg2, X,y, scoring = 'neg_mean_squared_error', cv = 10)\n",
    "lasso_reg2_ = cross_val_score(lasso_reg2, X,y, scoring = 'neg_mean_squared_error', cv = 10)\n",
    "\n",
    "\n",
    "print('Mean MSE lin reg: ' + str(np.mean(np.abs(lin_reg2_))))\n",
    "print('Mean MSE ridge reg: ' + str(np.mean(np.abs(ridge_reg2_))))\n",
    "print('Mean MSE lasso reg: ' + str(np.mean(np.abs(lasso_reg2_))))\n",
    "print('')\n",
    "print('Min MSE lin reg: ' + str(np.amin(np.abs(lin_reg2_))))\n",
    "print('Min MSE ridge reg: ' + str(np.amin(np.abs(ridge_reg2_))))\n",
    "print('Min MSE lasso reg: ' + str(np.amin(np.abs(lasso_reg2_))))\n",
    "\n",
    "# with cross validation we can see that the error decreases\n",
    "# Ridge and Linear regression are very similar."
   ]
  },
  {
   "cell_type": "code",
   "execution_count": 26,
   "metadata": {},
   "outputs": [],
   "source": [
    "# we can use instead the train_test_split function inside a loop\n",
    "# in order to build i-Kfold cross-validation procedure\n",
    "mse_lin_reg = []\n",
    "mse_ridge = []\n",
    "mse_lasso = []\n",
    "\n",
    "for i in range(100):\n",
    "    X_train, X_test, y_train, y_test = train_test_split(X, y, test_size = 0.2, random_state = i)\n",
    "    lin_reg2.fit(X_train, y_train)\n",
    "    ridge_reg2.fit(X_train, y_train)\n",
    "    lasso_reg2.fit(X_train, y_train)\n",
    "    \n",
    "    # predict \n",
    "    pred_lin = lin_reg2.predict(X_test)\n",
    "    pred_ridge = ridge_reg2.predict(X_test)\n",
    "    pred_lasso = lasso_reg2.predict(X_test)\n",
    "    \n",
    "    # MSE\n",
    "    mse_lin_reg.append(mean_squared_error(y_test, pred_lin))\n",
    "    mse_ridge.append(mean_squared_error(y_test, pred_ridge))\n",
    "    mse_lasso.append(mean_squared_error(y_test, pred_lasso))\n",
    "    "
   ]
  },
  {
   "cell_type": "code",
   "execution_count": 27,
   "metadata": {},
   "outputs": [
    {
     "name": "stdout",
     "output_type": "stream",
     "text": [
      "Mean MSE lin reg: 25.164823717137914\n",
      "Mean MSE ridge reg: 25.265000520426494\n",
      "Mean MSE lasso reg: 27.139754667948008\n",
      "\n",
      "Min MSE lin reg: 15.167805842454264\n",
      "Min MSE ridge reg: 14.799553147966884\n",
      "Min MSE lasso reg: 15.061507960483716\n"
     ]
    }
   ],
   "source": [
    "print('Mean MSE lin reg: ' + str(np.mean(mse_lin_reg)))\n",
    "print('Mean MSE ridge reg: ' + str(np.mean(mse_ridge)))\n",
    "print('Mean MSE lasso reg: ' + str(np.mean(mse_lasso)))\n",
    "print('')\n",
    "print('Min MSE lin reg: ' + str(np.amin(mse_lin_reg)))\n",
    "print('Min MSE ridge reg: ' + str(np.amin(mse_ridge)))\n",
    "print('Min MSE lasso reg: ' + str(np.amin(mse_lasso)))\n",
    "\n",
    "# results are different cause the teo algorithm takes differnt codes"
   ]
  },
  {
   "cell_type": "markdown",
   "metadata": {},
   "source": [
    "We can notice that only with the cross validation the Mean MSE decreses."
   ]
  },
  {
   "cell_type": "markdown",
   "metadata": {},
   "source": [
    "# Cross - Validation usinfg a grid of alphas"
   ]
  },
  {
   "cell_type": "code",
   "execution_count": 28,
   "metadata": {},
   "outputs": [],
   "source": [
    "# Models\n",
    "lin_reg3 = Ridge()\n",
    "ridge_reg3 = Ridge()\n",
    "lasso_reg3 = Lasso()\n",
    "params = {'alpha': np.linspace(0.001,0.999, 10)}\n",
    "params_lin_reg = {'alpha': np.linspace(1,1, 10)}"
   ]
  },
  {
   "cell_type": "markdown",
   "metadata": {},
   "source": [
    "We can use GridSearchCV or LassoCV and RidgeCV. In the following we use GridSearchCV.\n",
    "\n",
    "input(model, parameters grid, scoring , cv)\n",
    "This commad already performs the cross validation using all the parameter and performing 10fold cross validation."
   ]
  },
  {
   "cell_type": "code",
   "execution_count": 29,
   "metadata": {},
   "outputs": [],
   "source": [
    "# we can apply this only to lasso and ridge\n",
    "lin_reg_3_ = GridSearchCV(lin_reg3, params_lin_reg, scoring = 'neg_mean_squared_error', cv = 10)\n",
    "ridge_reg_3_ = GridSearchCV(ridge_reg3, params, scoring = 'neg_mean_squared_error', cv = 10)\n",
    "lasso_reg_3_ = GridSearchCV(lasso_reg3, params, scoring = 'neg_mean_squared_error', cv = 10)"
   ]
  },
  {
   "cell_type": "code",
   "execution_count": 30,
   "metadata": {},
   "outputs": [
    {
     "data": {
      "text/plain": [
       "GridSearchCV(cv=10, error_score='raise-deprecating',\n",
       "       estimator=Lasso(alpha=1.0, copy_X=True, fit_intercept=True, max_iter=1000,\n",
       "   normalize=False, positive=False, precompute=False, random_state=None,\n",
       "   selection='cyclic', tol=0.0001, warm_start=False),\n",
       "       fit_params=None, iid='warn', n_jobs=None,\n",
       "       param_grid={'alpha': array([0.001  , 0.11189, 0.22278, 0.33367, 0.44456, 0.55544, 0.66633,\n",
       "       0.77722, 0.88811, 0.999  ])},\n",
       "       pre_dispatch='2*n_jobs', refit=True, return_train_score='warn',\n",
       "       scoring='neg_mean_squared_error', verbose=0)"
      ]
     },
     "execution_count": 30,
     "metadata": {},
     "output_type": "execute_result"
    }
   ],
   "source": [
    "# Fit the model, we pass the entire dataset because GridSearchCV already does the splitting of the sample.\n",
    "lin_reg_3_.fit(X, y)\n",
    "ridge_reg_3_.fit(X, y)\n",
    "lasso_reg_3_.fit(X, y)"
   ]
  },
  {
   "cell_type": "code",
   "execution_count": 31,
   "metadata": {},
   "outputs": [
    {
     "name": "stdout",
     "output_type": "stream",
     "text": [
      "Lin param in sample:{'alpha': 1.0}\n",
      "Lin MSE in sample: 35.310394911288526\n",
      "Ridge param in sample:{'alpha': 0.999}\n",
      "Ridge MSE in sample: 35.31068410296068\n",
      "Lasso param in sample:{'alpha': 0.44455555555555554}\n",
      "Lasso MSE in sample: 34.544430878386564\n",
      "\n",
      "Lin param in sample:0\n",
      "Ridge param in sample:9\n",
      "Lasso param in sample:4\n"
     ]
    }
   ],
   "source": [
    "# Show the best alpha and MSE\n",
    "print('Lin param in sample:' +str(lin_reg_3_.best_params_))\n",
    "print('Lin MSE in sample: ' + str(np.abs(lin_reg_3_.best_score_)))\n",
    "print('Ridge param in sample:' +str(ridge_reg_3_.best_params_))\n",
    "print('Ridge MSE in sample: ' + str(np.abs(ridge_reg_3_.best_score_)))\n",
    "print('Lasso param in sample:' +str(lasso_reg_3_.best_params_))\n",
    "print('Lasso MSE in sample: ' + str(np.abs(lasso_reg_3_.best_score_)))\n",
    "\n",
    "# best index\n",
    "print('')\n",
    "print('Lin param in sample:' +str(lin_reg_3_.best_index_))\n",
    "print('Ridge param in sample:' +str(ridge_reg_3_.best_index_))\n",
    "print('Lasso param in sample:' +str(lasso_reg_3_.best_index_))"
   ]
  },
  {
   "cell_type": "code",
   "execution_count": 38,
   "metadata": {},
   "outputs": [
    {
     "data": {
      "text/plain": [
       "0.999"
      ]
     },
     "execution_count": 38,
     "metadata": {},
     "output_type": "execute_result"
    }
   ],
   "source": [
    "params['alpha'][9]"
   ]
  },
  {
   "cell_type": "code",
   "execution_count": 39,
   "metadata": {},
   "outputs": [
    {
     "name": "stdout",
     "output_type": "stream",
     "text": [
      "OOS MSE lin reg: 33.63239523801085\n",
      "OOS MSE ridge reg: 33.13810595436818\n",
      "OOS MSE lasso reg: 32.962074356774714\n",
      "\n",
      "Lin param train set:{'alpha': 1.0}\n",
      "Ridge param train set:{'alpha': 0.22277777777777777}\n",
      "Lasso param train set:{'alpha': 0.001}\n"
     ]
    }
   ],
   "source": [
    "# We need to be more fair in the comparison.\n",
    "# We fit the model on a training sample and fit it on the test sample.\n",
    "lin_reg_3_.fit(X_train, y_train)\n",
    "ridge_reg_3_.fit(X_train, y_train)\n",
    "lasso_reg_3_.fit(X_train, y_train)\n",
    "\n",
    "pred_lin3 = lin_reg_3_.predict(X_test)\n",
    "pred_ridge3 = ridge_reg_3_.predict(X_test)\n",
    "pred_lasso3 =lasso_reg_3_.predict(X_test)\n",
    "\n",
    "\n",
    "print('OOS MSE lin reg: ' + str(np.mean((pred_lin3 - y_test)**2)))\n",
    "print('OOS MSE ridge reg: ' + str(np.mean((pred_ridge3 - y_test)**2)))\n",
    "print('OOS MSE lasso reg: ' + str(np.mean((pred_lasso3 - y_test)**2)))\n",
    "\n",
    "# Out of sample the best is ridge and not lasso.\n",
    "print('')\n",
    "# Show the best alpha computed in the train setand MSE\n",
    "print('Lin param train set:' +str(lin_reg_3_.best_params_))\n",
    "print('Ridge param train set:' +str(ridge_reg_3_.best_params_))\n",
    "print('Lasso param train set:' +str(lasso_reg_3_.best_params_))"
   ]
  },
  {
   "cell_type": "markdown",
   "metadata": {},
   "source": [
    "This is are the parameters that are used in the out of sample. Let's see"
   ]
  },
  {
   "cell_type": "code",
   "execution_count": 41,
   "metadata": {},
   "outputs": [
    {
     "name": "stdout",
     "output_type": "stream",
     "text": [
      "OOS MSE ridge reg: 33.13766984447106\n",
      "OOS MSE lasso reg: 32.962074356774714\n"
     ]
    }
   ],
   "source": [
    "# comparison with output above\n",
    "ridge_try = Ridge(alpha = 0.22227777)\n",
    "lasso_try = Lasso(alpha = 0.001)\n",
    "ridge_try.fit(X_train, y_train)\n",
    "lasso_try.fit(X_train, y_train)\n",
    "\n",
    "ridge_pred_try = ridge_try.predict(X_test)\n",
    "lasso_pred_try = lasso_try.predict(X_test)\n",
    "print('OOS MSE ridge reg: ' + str(np.mean((ridge_pred_try - y_test)**2)))\n",
    "print('OOS MSE lasso reg: ' + str(np.mean((lasso_pred_try - y_test)**2)))"
   ]
  },
  {
   "cell_type": "markdown",
   "metadata": {},
   "source": [
    "You can notice that the results are the same as above."
   ]
  },
  {
   "cell_type": "code",
   "execution_count": 42,
   "metadata": {},
   "outputs": [],
   "source": [
    "# Cross Validation coded hard-core\n",
    "max_int = 10\n",
    "size_block = np.int(np.floor(X.shape[0]/10))\n",
    "alphas = np.linspace(0.01, 0.99, 100)\n",
    "XX_tot =[]\n",
    "yy_tot = []\n",
    "for i in range(max_int):\n",
    "    if i == max_int-1:\n",
    "        X_tmp = X[i*size_block:]\n",
    "        y_tmp = y[i*size_block:]\n",
    "    else:\n",
    "        X_tmp = X[i*size_block:(i+1)*size_block]\n",
    "        y_tmp = y[i*size_block:(i+1)*size_block]\n",
    "    XX_tot.append(X_tmp)\n",
    "    yy_tot.append(y_tmp)\n",
    "\n",
    "idx_target_block = np.asarray(np.linspace(0,9,10),int)\n",
    "\n",
    "mse_lm = np.zeros((len(alphas), max_int))\n",
    "mse_ridge = np.zeros((len(alphas), max_int))\n",
    "mse_lasso = np.zeros((len(alphas), max_int))\n",
    "\n",
    "for i in range(max_int):\n",
    "    random_idx_train = np.random.choice(np.delete(idx_target_block, i), 9)\n",
    "    idx_test = i\n",
    "    \n",
    "    for j in range(len(random_idx_train)-1):\n",
    "        XX_train = XX_tot[random_idx_train[0]]\n",
    "        yy_train = yy_tot[random_idx_train[0]]\n",
    "        \n",
    "        XX_train =pd.concat([XX_train, XX_tot[random_idx_train[j+1]]], axis = 0)\n",
    "        yy_train =pd.concat([yy_train, yy_tot[random_idx_train[j+1]]], axis = 0)\n",
    "        \n",
    "        XX_test = XX_tot[i]\n",
    "        yy_test = yy_tot[i]\n",
    "        \n",
    "        # fit the model\n",
    "    for a in range(len(alphas)):\n",
    "        lm = LinearRegression()\n",
    "        ridge_ = Ridge(alpha = alphas[a])\n",
    "        lasso_ = Lasso(alpha = alphas[a])\n",
    "            \n",
    "        lm.fit(XX_train, yy_train)\n",
    "        ridge_.fit(XX_train, yy_train)\n",
    "        lasso_.fit(XX_train, yy_train)\n",
    "            \n",
    "        # predict\n",
    "        lm_pred = lm.predict(X_test)\n",
    "        ridge_pred = ridge_.predict(X_test)\n",
    "        lasso_pred = lasso_.predict(X_test)\n",
    "\n",
    "        # MSE\n",
    "        mse_lm[a,i] = mean_squared_error(y_test, lm_pred)\n",
    "        mse_ridge[a,i] = mean_squared_error(y_test, ridge_pred)\n",
    "        mse_lasso[a,i] = mean_squared_error(y_test, lasso_pred)\n",
    " "
   ]
  },
  {
   "cell_type": "code",
   "execution_count": 53,
   "metadata": {},
   "outputs": [
    {
     "name": "stdout",
     "output_type": "stream",
     "text": [
      "Mean MSE lin reg: 134.10442096935404\n",
      "Mean MSE ridge reg: 79.88386311954409\n",
      "Mean MSE lasso reg: 64.4339660256806\n",
      "\n",
      "Min MSE lin reg: 37.25418248827695\n",
      "Min MSE ridge reg: 35.025611667885244\n",
      "Min MSE lasso reg: 35.638724533741694\n",
      "\n",
      "Optimal Ridge λ:  0.1782828282828283\n",
      "Optimal Lasso λ:  0.029797979797979796\n"
     ]
    }
   ],
   "source": [
    "print('Mean MSE lin reg: ' + str(np.mean(mse_lm)))\n",
    "print('Mean MSE ridge reg: ' + str(np.mean(mse_ridge)))\n",
    "print('Mean MSE lasso reg: ' + str(np.mean(mse_lasso)))\n",
    "print('')\n",
    "print('Min MSE lin reg: ' + str(np.amin(mse_lm)))\n",
    "print('Min MSE ridge reg: ' + str(np.amin(mse_ridge)))\n",
    "print('Min MSE lasso reg: ' + str(np.amin(mse_lasso)))\n",
    "print('')\n",
    "print('Optimal Ridge λ: ', alphas[np.where(mse_ridge == np.amin(mse_ridge))[0][0]])\n",
    "print('Optimal Lasso λ: ', alphas[np.where(mse_lasso == np.amin(mse_lasso))[0][0]])"
   ]
  },
  {
   "cell_type": "markdown",
   "metadata": {},
   "source": [
    "Ridge and Lasso outperform the linear regression.\n",
    "\n",
    "Why do we see such differences in the MSE with the different models?\n",
    "Because the cross-validation at this level still depends a lot on the data used.\n",
    "\n",
    "To avloid this issues we need to exploit all the possible possibilities in order to perform a more precise out os fample exercise"
   ]
  },
  {
   "cell_type": "code",
   "execution_count": null,
   "metadata": {},
   "outputs": [],
   "source": []
  },
  {
   "cell_type": "code",
   "execution_count": 66,
   "metadata": {},
   "outputs": [],
   "source": [
    "# We can do the same using a Loop and using train_test_split to split our sample\n",
    "alphas = np.linspace(0.01, 0.99, 100)\n",
    "\n",
    "mse_lm_insample = np.zeros((100, 20))\n",
    "mse_ridge_insample = np.zeros((100, 20))\n",
    "mse_lasso_insample = np.zeros((100, 20))\n",
    "\n",
    "mse_lm_oos = np.zeros((100, 20))\n",
    "mse_ridge_oos = np.zeros((100, 20))\n",
    "mse_lasso_oos = np.zeros((100, 20))\n",
    "\n",
    "j = 0\n",
    "for h in range(0,400,20):\n",
    "    X_train, X_test, y_train, y_test = train_test_split(X, y, test_size = 0.2, random_state = h)\n",
    "    \n",
    "    for i in range(len(alphas)):\n",
    "        lin_reg3 =LinearRegression()\n",
    "        ridge_reg3 = Ridge(alpha = alphas[i])\n",
    "        lasso_reg3 = Lasso(alpha = alphas[i])\n",
    "    \n",
    "    # fit the model\n",
    "        lin_reg3.fit(X_train, y_train)\n",
    "        ridge_reg3.fit(X_train, y_train)\n",
    "        lasso_reg3.fit(X_train, y_train)\n",
    "    \n",
    "    # predict \n",
    "        pred_lin_insample = lin_reg3.predict(X_train)\n",
    "        pred_ridge_insample = ridge_reg3.predict(X_train)\n",
    "        pred_lasso_insample =lasso_reg3.predict(X_train)\n",
    "    \n",
    "        pred_lin = lin_reg3.predict(X_test)\n",
    "        pred_ridge = ridge_reg3.predict(X_test)\n",
    "        pred_lasso =lasso_reg3.predict(X_test)\n",
    "\n",
    "    \n",
    "    # MSE insample and out of sample\n",
    "        mse_lm_insample[i, j] = mean_squared_error(y_train, pred_lin_insample)\n",
    "        mse_ridge_insample[i, j] = mean_squared_error(y_train, pred_ridge_insample)\n",
    "        mse_lasso_insample[i, j] = mean_squared_error(y_train, pred_lasso_insample)\n",
    "        \n",
    "        mse_lm_oos[i, j] = mean_squared_error(y_test, pred_lin)\n",
    "        mse_ridge_oos[i, j] = mean_squared_error(y_test, pred_ridge)\n",
    "        mse_lasso_oos[i, j] = mean_squared_error(y_test, pred_lasso)\n",
    "    j+=1"
   ]
  },
  {
   "cell_type": "code",
   "execution_count": 67,
   "metadata": {},
   "outputs": [
    {
     "name": "stdout",
     "output_type": "stream",
     "text": [
      "Mean MSE in oos Linear Regression:  25.348403464755933\n",
      "Mean MSE in oos Ridge:  25.42317722820139\n",
      "Mean MSE in oos Lasso:  27.55898416563065\n",
      "\n",
      "Mean MSE insample Linear Regression:  22.953904743233345\n",
      "Mean MSE insample Ridge Regression:  23.02083257122452\n",
      "Mean MSE insample Lasso Regression:  25.397499543935716\n"
     ]
    }
   ],
   "source": [
    "# Compute minimum MSE\n",
    "print('Mean MSE in oos Linear Regression: ' , np.mean(mse_lm_oos))\n",
    "print('Mean MSE in oos Ridge: ' , np.mean(mse_ridge_oos))\n",
    "print('Mean MSE in oos Lasso: ' , np.mean(mse_lasso_oos))\n",
    "print('')\n",
    "print('Mean MSE insample Linear Regression: ' ,np.mean(mse_lm_insample))\n",
    "print('Mean MSE insample Ridge Regression: ' ,np.mean(mse_ridge_insample))\n",
    "print('Mean MSE insample Lasso Regression: ' ,np.mean(mse_lasso_insample))"
   ]
  },
  {
   "cell_type": "code",
   "execution_count": 68,
   "metadata": {},
   "outputs": [
    {
     "name": "stdout",
     "output_type": "stream",
     "text": [
      "Min MSE in oos Linear Regression:  15.436218617060664\n",
      "Min MSE in oos Ridge:  15.274855052412118\n",
      "Min MSE in oos Lasso:  15.230224635012702\n",
      "\n",
      "Min MSE insample Linear Regression:  19.98098727909367\n",
      "Min MSE insample Ridge Regression:  19.98101186297584\n",
      "Min MSE insample Lasso Regression:  20.018688164189822\n"
     ]
    }
   ],
   "source": [
    "# Compute Min\n",
    "print('Min MSE in oos Linear Regression: ' , np.amin(mse_lm_oos))\n",
    "print('Min MSE in oos Ridge: ' , np.amin(mse_ridge_oos))\n",
    "print('Min MSE in oos Lasso: ' , np.amin(mse_lasso_oos))\n",
    "print('')\n",
    "print('Min MSE insample Linear Regression: ' ,np.amin(mse_lm_insample))\n",
    "print('Min MSE insample Ridge Regression: ' ,np.amin(mse_ridge_insample))\n",
    "print('Min MSE insample Lasso Regression: ' ,np.amin(mse_lasso_insample))"
   ]
  },
  {
   "cell_type": "code",
   "execution_count": 69,
   "metadata": {},
   "outputs": [
    {
     "name": "stdout",
     "output_type": "stream",
     "text": [
      "Best λ Ridge:  0.8712121212121212\n",
      "Best λ Lasso:  0.0198989898989899\n"
     ]
    }
   ],
   "source": [
    "# optimal value of λ\n",
    "print('Best λ Ridge: ' , alphas[np.where(mse_ridge_oos == np.amin(mse_ridge_oos))[0][0]])\n",
    "print('Best λ Lasso: ' , alphas[np.where(mse_lasso_oos == np.amin(mse_lasso_oos))[0][0]])"
   ]
  },
  {
   "cell_type": "markdown",
   "metadata": {},
   "source": [
    "This is a fake prediction exercise, because to calibrate the parameter we have used the entire set of data."
   ]
  },
  {
   "cell_type": "code",
   "execution_count": 71,
   "metadata": {},
   "outputs": [
    {
     "name": "stdout",
     "output_type": "stream",
     "text": [
      "OOS MSE lin reg: 21.98734434242419\n",
      "OOS MSE ridge reg: 21.96003402330093\n",
      "OOS MSE lasso reg: 20.044856629447818\n"
     ]
    }
   ],
   "source": [
    "# predict\n",
    "pred_lin3 = lin_reg3.predict(X_test)\n",
    "pred_ridge3 = ridge_reg3.predict(X_test)\n",
    "pred_lasso3 =lasso_reg3.predict(X_test)\n",
    "\n",
    "\n",
    "print('OOS MSE lin reg: ' + str(np.mean((pred_lin3 - y_test)**2)))\n",
    "print('OOS MSE ridge reg: ' + str(np.mean((pred_ridge3 - y_test)**2)))\n",
    "print('OOS MSE lasso reg: ' + str(np.mean((pred_lasso3 - y_test)**2)))\n"
   ]
  },
  {
   "cell_type": "markdown",
   "metadata": {},
   "source": [
    "With the correct oos structure we notice that Lasso is the best and both the model are able to beat the linear regression in predictin the price of the house in Boston"
   ]
  },
  {
   "cell_type": "markdown",
   "metadata": {},
   "source": [
    "# let's do the same using RidgeCV and LassoCV"
   ]
  },
  {
   "cell_type": "code",
   "execution_count": null,
   "metadata": {},
   "outputs": [],
   "source": [
    "linCV_reg = RidgeCV(alphas = np.linspace(1,1,10), cv = 10, scoring='neg_mean_squared_error')\n",
    "ridgeCV_reg = RidgeCV(alphas = np.linspace(0.001,0.999,10), cv = 10, scoring='neg_mean_squared_error')\n",
    "lassoCV_reg = LassoCV(alphas = np.linspace(0.001,0.999,10), cv = 10)"
   ]
  },
  {
   "cell_type": "code",
   "execution_count": null,
   "metadata": {},
   "outputs": [],
   "source": [
    "# fit full sample\n",
    "linCV_reg.fit(X, y)\n",
    "ridgeCV_reg.fit(X, y)\n",
    "lassoCV_reg.fit(X, y)"
   ]
  },
  {
   "cell_type": "code",
   "execution_count": null,
   "metadata": {},
   "outputs": [],
   "source": [
    "# show parameters\n",
    "print('Ridge α entire sample: ' + str(ridgeCV_reg.alpha_))\n",
    "print('Lasso α entire sample: ' + str(lassoCV_reg.alpha_))"
   ]
  },
  {
   "cell_type": "code",
   "execution_count": null,
   "metadata": {},
   "outputs": [],
   "source": [
    "# ridge does not store the mse so to compute the in-sample MSE we have to do the following:\n",
    "# 1. select best alpha\n",
    "# 2. set Ridge_param\n",
    "# 3. cross_val_score\n",
    "α_ridge = ridgeCV_reg.alpha_\n",
    "ridge_tmp = Ridge(alpha = α_ridge)\n",
    "ridge_reg2_ = cross_val_score(ridge_tmp, X,y, scoring = 'neg_mean_squared_error', cv = 10)\n",
    "\n",
    "lin_tmp = Ridge(alpha = 1)\n",
    "lin_reg2_ = cross_val_score(lin_tmp, X,y, scoring = 'neg_mean_squared_error', cv = 10)\n",
    "\n",
    "# show mse\n",
    "print('MSE entire sample Lin Reg: ' + str(lin_reg2_.mean()))\n",
    "print('MSE entire sample Ridge: ' + str(ridge_reg2_.mean()))\n",
    "print('MSE entire sample Ridge: ' + str(lassoCV_reg.mse_path_.mean()))"
   ]
  },
  {
   "cell_type": "markdown",
   "metadata": {},
   "source": [
    "Let's perform a proper out of sample exercise"
   ]
  },
  {
   "cell_type": "code",
   "execution_count": null,
   "metadata": {},
   "outputs": [],
   "source": [
    "# fit train set\n",
    "linCV_reg.fit(X_train, y_train)\n",
    "ridgeCV_reg.fit(X_train, y_train)\n",
    "lassoCV_reg.fit(X_train, y_train)"
   ]
  },
  {
   "cell_type": "code",
   "execution_count": null,
   "metadata": {},
   "outputs": [],
   "source": [
    "# show parameters\n",
    "print('Ridge α entire sample: ' + str(ridgeCV_reg.alpha_))\n",
    "print('Lasso α entire sample: ' + str(lassoCV_reg.alpha_))"
   ]
  },
  {
   "cell_type": "code",
   "execution_count": null,
   "metadata": {},
   "outputs": [],
   "source": [
    "# predict - it uses the best set or parameters.\n",
    "pred_lin4 = linCV_reg.predict(X_test)\n",
    "pred_ridge4 = ridgeCV_reg.predict(X_test)\n",
    "pred_lasso4 = lassoCV_reg.predict(X_test)\n",
    "\n",
    "print('OOS MSE lin reg: ' + str(np.mean((pred_lin4 - y_test)**2)))\n",
    "print('OOS MSE ridge reg: ' + str(np.mean((pred_ridge4 - y_test)**2)))\n",
    "print('OOS MSE lasso reg: ' + str(np.mean((pred_lasso4 - y_test)**2)))"
   ]
  },
  {
   "cell_type": "markdown",
   "metadata": {},
   "source": [
    "Same results as before!"
   ]
  }
 ],
 "metadata": {
  "kernelspec": {
   "display_name": "Python 3",
   "language": "python",
   "name": "python3"
  },
  "language_info": {
   "codemirror_mode": {
    "name": "ipython",
    "version": 3
   },
   "file_extension": ".py",
   "mimetype": "text/x-python",
   "name": "python",
   "nbconvert_exporter": "python",
   "pygments_lexer": "ipython3",
   "version": "3.7.3"
  }
 },
 "nbformat": 4,
 "nbformat_minor": 2
}
