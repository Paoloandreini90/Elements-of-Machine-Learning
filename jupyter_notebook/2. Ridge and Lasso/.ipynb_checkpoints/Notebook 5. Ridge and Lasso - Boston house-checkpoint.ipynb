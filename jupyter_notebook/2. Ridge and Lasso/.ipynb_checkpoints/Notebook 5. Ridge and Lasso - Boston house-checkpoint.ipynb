{
 "cells": [
  {
   "cell_type": "markdown",
   "metadata": {},
   "source": [
    "# Ridge and Lasso regression "
   ]
  },
  {
   "cell_type": "markdown",
   "metadata": {},
   "source": [
    "We use Ridge and Lasso regression to predict the boston house median value.\n",
    "\n",
    "We show how to calibrate the hyperparameters using cross-validation in different way:\n",
    "\n",
    "1. RidgeCV \n",
    "2. LassoCV\n",
    "\n"
   ]
  },
  {
   "cell_type": "code",
   "execution_count": null,
   "metadata": {},
   "outputs": [],
   "source": [
    "import numpy as np\n",
    "import random\n",
    "import matplotlib.pyplot as plt\n",
    "import pandas as pd\n",
    "from sklearn import linear_model\n",
    "from sklearn.model_selection import train_test_split, cross_val_score\n",
    "from sklearn.linear_model import LinearRegression\n",
    "from sklearn.linear_model import Ridge\n",
    "from sklearn.linear_model import Lasso\n",
    "from sklearn.model_selection import GridSearchCV\n",
    "from sklearn.metrics import mean_squared_error\n",
    "from sklearn.linear_model import LassoCV\n",
    "from sklearn.linear_model import RidgeCV\n",
    "from sklearn.linear_model import LinearRegression\n",
    "from sklearn.metrics import mean_squared_error\n",
    "import warnings\n",
    "warnings.filterwarnings(\"ignore\")"
   ]
  },
  {
   "cell_type": "markdown",
   "metadata": {},
   "source": [
    "# Focus on the importance of the hyperparameters"
   ]
  },
  {
   "cell_type": "code",
   "execution_count": null,
   "metadata": {},
   "outputs": [],
   "source": [
    "# data = pd.read_csv(\"../Dataset/BostonHouse.csv\") you should put the data in the correct folder\n",
    "print(data.shape)\n",
    "data.head()"
   ]
  },
  {
   "cell_type": "code",
   "execution_count": null,
   "metadata": {},
   "outputs": [],
   "source": [
    "\"\"\"\"\n",
    "Alternative way to import the same dataset\n",
    "from sklearn.datasets import load_boston\n",
    "data = load_boston()\n",
    "data = pd.DataFrame(boston.data,columns=boston.feature_names)\n",
    "data.head()\n",
    "# add target \n",
    "data['price'] = boston.target\n",
    "\"\"\""
   ]
  },
  {
   "cell_type": "code",
   "execution_count": null,
   "metadata": {},
   "outputs": [],
   "source": [
    "# we get rid og these variables because they are categorical\n",
    "X = data.drop(['zn','rad','medv'], axis = 1)\n",
    "y = data['medv']"
   ]
  },
  {
   "cell_type": "markdown",
   "metadata": {},
   "source": [
    "# No Cross-Validation, we try only one alpha random"
   ]
  },
  {
   "cell_type": "code",
   "execution_count": null,
   "metadata": {},
   "outputs": [],
   "source": [
    "# Split the sample \n",
    "X_train, X_test, y_train, y_test = train_test_split(X,y, test_size = 0.2, random_state = 10)"
   ]
  },
  {
   "cell_type": "code",
   "execution_count": null,
   "metadata": {},
   "outputs": [],
   "source": [
    "# Speicfy the λ parameter\n",
    "lin_reg = LinearRegression()\n",
    "ridge_reg = Ridge(alpha = 0.5)\n",
    "lasso_reg = Lasso(alpha = 0.5)"
   ]
  },
  {
   "cell_type": "code",
   "execution_count": null,
   "metadata": {},
   "outputs": [],
   "source": [
    "# Fit the model\n",
    "lin_reg.fit(X_train, y_train)\n",
    "ridge_reg.fit(X_train, y_train)\n",
    "lasso_reg.fit(X_train, y_train)"
   ]
  },
  {
   "cell_type": "code",
   "execution_count": null,
   "metadata": {},
   "outputs": [],
   "source": [
    "# Predict\n",
    "pred_lin = lin_reg.predict(X_test)\n",
    "pred_ridge = ridge_reg.predict(X_test)\n",
    "pred_lasso = lasso_reg.predict(X_test)\n",
    "\n",
    "print('MSE oos Linear Regression: ' + str(np.mean((pred_lin - y_test)**2)))\n",
    "print('MSE oos Ridge: ' + str(np.mean((pred_ridge - y_test)**2)))\n",
    "print('MSE oos Lasso: ' + str(np.mean((pred_lasso - y_test)**2)))\n",
    "\n",
    "# Using the function mean_squared_error is the same\n",
    "# print('MSE oos Linear Regression: ' + str(mean_squared_error(y_test, pred_lin)))\n",
    "# print('MSE oos Ridge: ' + str(mean_squared_error(y_test, pred_ridge)))\n",
    "# print('MSE oos Lasso: ' + str(mean_squared_error(y_test, pred_lasso)))"
   ]
  },
  {
   "cell_type": "markdown",
   "metadata": {},
   "source": [
    "# Cross-Vaildation, using only one alpha"
   ]
  },
  {
   "cell_type": "code",
   "execution_count": null,
   "metadata": {},
   "outputs": [],
   "source": [
    "# Models\n",
    "lin_reg2 = LinearRegression()\n",
    "ridge_reg2 = Ridge(alpha = 0.5)\n",
    "lasso_reg2 = Lasso(alpha = 0.5)"
   ]
  },
  {
   "cell_type": "code",
   "execution_count": null,
   "metadata": {},
   "outputs": [],
   "source": [
    "# fit and compute MSE on the entire sample\n",
    "lin_reg2_ = cross_val_score(lin_reg2, X,y, scoring = 'neg_mean_squared_error', cv = 10)\n",
    "ridge_reg2_ = cross_val_score(ridge_reg2, X,y, scoring = 'neg_mean_squared_error', cv = 10)\n",
    "lasso_reg2_ = cross_val_score(lasso_reg2, X,y, scoring = 'neg_mean_squared_error', cv = 10)\n",
    "\n",
    "\n",
    "print('Mean MSE lin reg: ' + str(np.mean(np.abs(lin_reg2_))))\n",
    "print('Mean MSE ridge reg: ' + str(np.mean(np.abs(ridge_reg2_))))\n",
    "print('Mean MSE lasso reg: ' + str(np.mean(np.abs(lasso_reg2_))))\n",
    "print('')\n",
    "print('Min MSE lin reg: ' + str(np.amin(np.abs(lin_reg2_))))\n",
    "print('Min MSE ridge reg: ' + str(np.amin(np.abs(ridge_reg2_))))\n",
    "print('Min MSE lasso reg: ' + str(np.amin(np.abs(lasso_reg2_))))\n",
    "\n",
    "# with cross validation we can see that the error decreases\n",
    "# Ridge and Linear regression are very similar."
   ]
  },
  {
   "cell_type": "markdown",
   "metadata": {},
   "source": [
    "We can notice that only with the cross validation the Mean MSE decreses."
   ]
  },
  {
   "cell_type": "markdown",
   "metadata": {},
   "source": [
    "# Cross - Validation usinfg a grid of alphas"
   ]
  },
  {
   "cell_type": "code",
   "execution_count": null,
   "metadata": {},
   "outputs": [],
   "source": [
    "# Models\n",
    "lin_reg3 = Ridge()\n",
    "ridge_reg3 = Ridge()\n",
    "lasso_reg3 = Lasso()\n",
    "params = {'alpha': np.linspace(0.001,0.999, 10)}\n",
    "params_lin_reg = {'alpha': np.linspace(1,1, 10)}"
   ]
  },
  {
   "cell_type": "markdown",
   "metadata": {},
   "source": [
    "We can use GridSearchCV or LassoCV and RidgeCV. In the following we use GridSearchCV.\n",
    "\n",
    "input(model, parameters grid, scoring , cv)\n",
    "This commad already performs the cross validation using all the parameter and performing 10fold cross validation."
   ]
  },
  {
   "cell_type": "code",
   "execution_count": null,
   "metadata": {},
   "outputs": [],
   "source": [
    "# we can apply this only to lasso and ridge\n",
    "lin_reg_3_ = GridSearchCV(lin_reg3, params_lin_reg, scoring = 'neg_mean_squared_error', cv = 10)\n",
    "ridge_reg_3_ = GridSearchCV(ridge_reg3, params, scoring = 'neg_mean_squared_error', cv = 10)\n",
    "lasso_reg_3_ = GridSearchCV(lasso_reg3, params, scoring = 'neg_mean_squared_error', cv = 10)"
   ]
  },
  {
   "cell_type": "code",
   "execution_count": null,
   "metadata": {},
   "outputs": [],
   "source": [
    "# Fit the model, we pass the entire dataset because GridSearchCV already does the splitting of the sample.\n",
    "lin_reg_3_.fit(X, y)\n",
    "ridge_reg_3_.fit(X, y)\n",
    "lasso_reg_3_.fit(X, y)"
   ]
  },
  {
   "cell_type": "code",
   "execution_count": null,
   "metadata": {},
   "outputs": [],
   "source": [
    "# Show the best alpha and MSE\n",
    "print('Lin param in sample:' +str(lin_reg_3_.best_params_))\n",
    "print('Lin MSE in sample: ' + str(np.abs(lin_reg_3_.best_score_)))\n",
    "print('Ridge param in sample:' +str(ridge_reg_3_.best_params_))\n",
    "print('Ridge MSE in sample: ' + str(np.abs(ridge_reg_3_.best_score_)))\n",
    "print('Lasso param in sample:' +str(lasso_reg_3_.best_params_))\n",
    "print('Lasso MSE in sample: ' + str(np.abs(lasso_reg_3_.best_score_)))\n",
    "\n",
    "# best index\n",
    "print('')\n",
    "print('Lin param in sample:' +str(lin_reg_3_.best_index_))\n",
    "print('Ridge param in sample:' +str(ridge_reg_3_.best_index_))\n",
    "print('Lasso param in sample:' +str(lasso_reg_3_.best_index_))"
   ]
  },
  {
   "cell_type": "code",
   "execution_count": null,
   "metadata": {},
   "outputs": [],
   "source": [
    "params['alpha'][9]"
   ]
  },
  {
   "cell_type": "code",
   "execution_count": null,
   "metadata": {},
   "outputs": [],
   "source": [
    "# We need to be more fair in the comparison.\n",
    "# We fit the model on a training sample and fit it on the test sample.\n",
    "lin_reg_3_.fit(X_train, y_train)\n",
    "ridge_reg_3_.fit(X_train, y_train)\n",
    "lasso_reg_3_.fit(X_train, y_train)\n",
    "\n",
    "pred_lin3 = lin_reg_3_.predict(X_test)\n",
    "pred_ridge3 = ridge_reg_3_.predict(X_test)\n",
    "pred_lasso3 =lasso_reg_3_.predict(X_test)\n",
    "\n",
    "\n",
    "print('OOS MSE lin reg: ' + str(np.mean((pred_lin3 - y_test)**2)))\n",
    "print('OOS MSE ridge reg: ' + str(np.mean((pred_ridge3 - y_test)**2)))\n",
    "print('OOS MSE lasso reg: ' + str(np.mean((pred_lasso3 - y_test)**2)))\n",
    "\n",
    "# Out of sample the best is ridge and not lasso.\n",
    "print('')\n",
    "# Show the best alpha computed in the train setand MSE\n",
    "print('Lin param train set:' +str(lin_reg_3_.best_params_))\n",
    "print('Ridge param train set:' +str(ridge_reg_3_.best_params_))\n",
    "print('Lasso param train set:' +str(lasso_reg_3_.best_params_))"
   ]
  },
  {
   "cell_type": "markdown",
   "metadata": {},
   "source": [
    "This is are the parameters that are used in the out of sample. Let's see"
   ]
  },
  {
   "cell_type": "code",
   "execution_count": null,
   "metadata": {},
   "outputs": [],
   "source": [
    "# comparison with output above\n",
    "ridge_try = Ridge(alpha = 0.22227777)\n",
    "lasso_try = Lasso(alpha = 0.001)\n",
    "ridge_try.fit(X_train, y_train)\n",
    "lasso_try.fit(X_train, y_train)\n",
    "\n",
    "ridge_pred_try = ridge_try.predict(X_test)\n",
    "lasso_pred_try = lasso_try.predict(X_test)\n",
    "print('OOS MSE ridge reg: ' + str(np.mean((ridge_pred_try - y_test)**2)))\n",
    "print('OOS MSE lasso reg: ' + str(np.mean((lasso_pred_try - y_test)**2)))"
   ]
  },
  {
   "cell_type": "markdown",
   "metadata": {},
   "source": [
    "You can notice that the results are the same as above."
   ]
  },
  {
   "cell_type": "markdown",
   "metadata": {},
   "source": [
    "With the correct oos structure we notice that Lasso is the best and both the model are able to beat the linear regression in predictin the price of the house in Boston"
   ]
  },
  {
   "cell_type": "markdown",
   "metadata": {},
   "source": [
    "# let's do the same using RidgeCV and LassoCV"
   ]
  },
  {
   "cell_type": "code",
   "execution_count": null,
   "metadata": {},
   "outputs": [],
   "source": [
    "linCV_reg = RidgeCV(alphas = np.linspace(1,1,10), cv = 10, scoring='neg_mean_squared_error')\n",
    "ridgeCV_reg = RidgeCV(alphas = np.linspace(0.001,0.999,10), cv = 10, scoring='neg_mean_squared_error')\n",
    "lassoCV_reg = LassoCV(alphas = np.linspace(0.001,0.999,10), cv = 10)"
   ]
  },
  {
   "cell_type": "code",
   "execution_count": null,
   "metadata": {},
   "outputs": [],
   "source": [
    "# fit full sample\n",
    "linCV_reg.fit(X, y)\n",
    "ridgeCV_reg.fit(X, y)\n",
    "lassoCV_reg.fit(X, y)"
   ]
  },
  {
   "cell_type": "code",
   "execution_count": null,
   "metadata": {},
   "outputs": [],
   "source": [
    "# show optimal hyperparameters parameters\n",
    "print('Ridge λ entire sample: ' + str(ridgeCV_reg.alpha_))\n",
    "print('Lasso λ entire sample: ' + str(lassoCV_reg.alpha_))"
   ]
  },
  {
   "cell_type": "code",
   "execution_count": null,
   "metadata": {},
   "outputs": [],
   "source": [
    "# ridge does not store the mse so to compute the in-sample MSE we have to do the following:\n",
    "# 1. select best alpha\n",
    "# 2. set Ridge_param\n",
    "# 3. cross_val_score\n",
    "λ_ridge = ridgeCV_reg.alpha_\n",
    "ridge_tmp = Ridge(alpha = λ_ridge)\n",
    "ridge_reg2_ = cross_val_score(ridge_tmp, X,y, scoring = 'neg_mean_squared_error', cv = 10)\n",
    "\n",
    "lin_tmp = Ridge(alpha = 1)\n",
    "lin_reg2_ = cross_val_score(lin_tmp, X,y, scoring = 'neg_mean_squared_error', cv = 10)\n",
    "\n",
    "# show mse\n",
    "print('MSE entire sample Lin Reg: ' + str(np.abs(lin_reg2_).mean()))\n",
    "print('MSE entire sample Ridge: ' + str(np.abs(ridge_reg2_).mean()))\n",
    "print('MSE entire sample Lasso: ' + str(lassoCV_reg.mse_path_.mean()))"
   ]
  },
  {
   "cell_type": "markdown",
   "metadata": {},
   "source": [
    "Let's perform a proper out of sample exercise"
   ]
  },
  {
   "cell_type": "code",
   "execution_count": null,
   "metadata": {},
   "outputs": [],
   "source": [
    "# fit train set\n",
    "linCV_reg.fit(X_train, y_train)\n",
    "ridgeCV_reg.fit(X_train, y_train)\n",
    "lassoCV_reg.fit(X_train, y_train)"
   ]
  },
  {
   "cell_type": "code",
   "execution_count": null,
   "metadata": {},
   "outputs": [],
   "source": [
    "# show parameters\n",
    "print('Ridge λ entire sample: ' + str(ridgeCV_reg.alpha_))\n",
    "print('Lasso λ entire sample: ' + str(lassoCV_reg.alpha_))"
   ]
  },
  {
   "cell_type": "code",
   "execution_count": null,
   "metadata": {},
   "outputs": [],
   "source": [
    "# predict - it uses the best set or parameters.\n",
    "pred_lin4 = linCV_reg.predict(X_test)\n",
    "pred_ridge4 = ridgeCV_reg.predict(X_test)\n",
    "pred_lasso4 = lassoCV_reg.predict(X_test)\n",
    "\n",
    "print('OOS MSE lin reg: ' + str(np.mean((pred_lin4 - y_test)**2)))\n",
    "print('OOS MSE ridge reg: ' + str(np.mean((pred_ridge4 - y_test)**2)))\n",
    "print('OOS MSE lasso reg: ' + str(np.mean((pred_lasso4 - y_test)**2)))"
   ]
  },
  {
   "cell_type": "markdown",
   "metadata": {},
   "source": [
    "Same results as before!"
   ]
  }
 ],
 "metadata": {
  "kernelspec": {
   "display_name": "Python 3",
   "language": "python",
   "name": "python3"
  },
  "language_info": {
   "codemirror_mode": {
    "name": "ipython",
    "version": 3
   },
   "file_extension": ".py",
   "mimetype": "text/x-python",
   "name": "python",
   "nbconvert_exporter": "python",
   "pygments_lexer": "ipython3",
   "version": "3.7.3"
  }
 },
 "nbformat": 4,
 "nbformat_minor": 2
}
